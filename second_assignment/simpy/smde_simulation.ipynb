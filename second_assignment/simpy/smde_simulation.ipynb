{
  "nbformat": 4,
  "nbformat_minor": 0,
  "metadata": {
    "colab": {
      "provenance": [],
      "collapsed_sections": [
        "uyLx9jF43Gj6",
        "Nva2DdtEfXWF",
        "gwS2sU2pa5jK",
        "NsizIiK3E5y3"
      ]
    },
    "kernelspec": {
      "name": "python3",
      "display_name": "Python 3"
    },
    "language_info": {
      "name": "python"
    }
  },
  "cells": [
    {
      "cell_type": "code",
      "execution_count": 1,
      "metadata": {
        "colab": {
          "base_uri": "https://localhost:8080/"
        },
        "id": "GrZdGiW9NpY8",
        "outputId": "358bd8c3-ba26-4d67-c3c9-98b719806e87"
      },
      "outputs": [
        {
          "output_type": "stream",
          "name": "stdout",
          "text": [
            "Requirement already satisfied: numpy in /usr/local/lib/python3.10/dist-packages (1.25.2)\n",
            "Collecting simpy\n",
            "  Downloading simpy-4.1.1-py3-none-any.whl (27 kB)\n",
            "Requirement already satisfied: matplotlib in /usr/local/lib/python3.10/dist-packages (3.7.1)\n",
            "Requirement already satisfied: contourpy>=1.0.1 in /usr/local/lib/python3.10/dist-packages (from matplotlib) (1.2.1)\n",
            "Requirement already satisfied: cycler>=0.10 in /usr/local/lib/python3.10/dist-packages (from matplotlib) (0.12.1)\n",
            "Requirement already satisfied: fonttools>=4.22.0 in /usr/local/lib/python3.10/dist-packages (from matplotlib) (4.53.0)\n",
            "Requirement already satisfied: kiwisolver>=1.0.1 in /usr/local/lib/python3.10/dist-packages (from matplotlib) (1.4.5)\n",
            "Requirement already satisfied: packaging>=20.0 in /usr/local/lib/python3.10/dist-packages (from matplotlib) (24.0)\n",
            "Requirement already satisfied: pillow>=6.2.0 in /usr/local/lib/python3.10/dist-packages (from matplotlib) (9.4.0)\n",
            "Requirement already satisfied: pyparsing>=2.3.1 in /usr/local/lib/python3.10/dist-packages (from matplotlib) (3.1.2)\n",
            "Requirement already satisfied: python-dateutil>=2.7 in /usr/local/lib/python3.10/dist-packages (from matplotlib) (2.8.2)\n",
            "Requirement already satisfied: six>=1.5 in /usr/local/lib/python3.10/dist-packages (from python-dateutil>=2.7->matplotlib) (1.16.0)\n",
            "Installing collected packages: simpy\n",
            "Successfully installed simpy-4.1.1\n"
          ]
        }
      ],
      "source": [
        "%pip install numpy simpy matplotlib"
      ]
    },
    {
      "cell_type": "code",
      "source": [
        "%pip install scipy"
      ],
      "metadata": {
        "colab": {
          "base_uri": "https://localhost:8080/"
        },
        "id": "LtcTFVrx8WuT",
        "outputId": "98702f4e-8ac4-41b9-8f99-1282f2ab5809"
      },
      "execution_count": 2,
      "outputs": [
        {
          "output_type": "stream",
          "name": "stdout",
          "text": [
            "Requirement already satisfied: scipy in /usr/local/lib/python3.10/dist-packages (1.11.4)\n",
            "Requirement already satisfied: numpy<1.28.0,>=1.21.6 in /usr/local/lib/python3.10/dist-packages (from scipy) (1.25.2)\n"
          ]
        }
      ]
    },
    {
      "cell_type": "code",
      "source": [
        "import pandas as pd\n",
        "import scipy"
      ],
      "metadata": {
        "id": "--dPa49QVcuu"
      },
      "execution_count": 3,
      "outputs": []
    },
    {
      "cell_type": "code",
      "source": [
        "import numpy as np\n",
        "import simpy\n",
        "import random\n",
        "import math\n",
        "\n",
        "class MonitoredResource(simpy.Resource):\n",
        "    def __init__(self, env, capacity=1):\n",
        "        super().__init__(env, capacity)\n",
        "        self.env = env\n",
        "        self.queue_sizes = []\n",
        "        self.waiting_times = []\n",
        "        self.timings = []\n",
        "\n",
        "    def request(self, *args, **kwargs):\n",
        "        req = super().request(*args, **kwargs)\n",
        "        self.queue_sizes.append(len(self.queue))\n",
        "        self.timings.append(self.env.now)\n",
        "        req.time_queued = self.env.now\n",
        "        req.callbacks.append(self._record_waiting_time)\n",
        "        return req\n",
        "\n",
        "    def _record_waiting_time(self, event):\n",
        "        waiting_time = self.env.now - event.time_queued\n",
        "        self.waiting_times.append(waiting_time)\n",
        "\n",
        "\n",
        "class Runner(object):\n",
        "    def __init__(\n",
        "        self,\n",
        "        env,\n",
        "        name,\n",
        "        running_time,\n",
        "        distances,\n",
        "        queues,\n",
        "        usage_times,\n",
        "        need_functions,\n",
        "        need_satisfaction,\n",
        "        average_waiting_times,\n",
        "        skip_if_waiting_time_higher,\n",
        "    ):\n",
        "        self.env = env\n",
        "        # Start the run process everytime an instance is created.\n",
        "        self.running_time = running_time\n",
        "        self.distances = distances\n",
        "        self.queues = queues\n",
        "        self.usage_times = usage_times\n",
        "        self.name = name\n",
        "        self.need_functions = need_functions\n",
        "        self.need_satisfaction = need_satisfaction\n",
        "        self.needs = {k: 0.0 for k in need_functions.keys()}\n",
        "        self.previous_times = {k: env.now for k in need_functions.keys()}\n",
        "        self.skip_if_waiting_time_higher = skip_if_waiting_time_higher\n",
        "        self.average_waiting_times = average_waiting_times\n",
        "        self.skipped_needs = {k: [] for k in need_functions.keys()}\n",
        "        self.current_needs = {k: [] for k in need_functions.keys()}\n",
        "        self.cummulative_usage_time = {k: 0 for k in usage_times.keys()}\n",
        "        self.stop_times = []\n",
        "\n",
        "        self.action = env.process(self.run())\n",
        "\n",
        "    def run(self):\n",
        "        # print(\"{} {} Start marathon\".format( self.env.now, self.name))\n",
        "        for i in range(0, len(self.distances)):\n",
        "            # print(\"{} starting stage {}\".format(self.env.now , i))\n",
        "            yield self.env.timeout(self.running_time(self.distances[i]))\n",
        "            yield from self.use_stations(i)\n",
        "        self.finishing_time = self.env.now\n",
        "\n",
        "    def use_stations(self, index):\n",
        "        self.stop_times.append(self.env.now)\n",
        "        for station in self.skipped_needs:\n",
        "            self.skipped_needs[station].append(None)\n",
        "        for station in self.needs:\n",
        "            self.update_need(station)\n",
        "            self.current_needs[station].append(self.needs[station])\n",
        "\n",
        "        keys = list(self.queues[index].keys())\n",
        "\n",
        "        random.shuffle(keys)\n",
        "\n",
        "        for station in keys:\n",
        "            yield from self.use_station(index, station)\n",
        "\n",
        "    def use_station(self, index, station):\n",
        "        skip_due_to_queue_size = (\n",
        "            self.get_waiting_time(index, station)\n",
        "            > self.skip_if_waiting_time_higher[station]\n",
        "            and not self.needs[station] >= 1.0\n",
        "        )\n",
        "        if (\n",
        "            random.uniform(0, 1) < self.needs[station] and not skip_due_to_queue_size\n",
        "        ):  # if we want to go but have to skip\n",
        "            with self.queues[index][station].request() as stn:\n",
        "                yield stn\n",
        "                usage_time = self.usage_times[station]()\n",
        "                self.cummulative_usage_time[station] += usage_time\n",
        "                yield self.env.timeout(usage_time)\n",
        "            self.needs[station] = self.need_satisfaction[station](self.needs[station])\n",
        "            self.previous_times[station] = self.env.now\n",
        "        elif skip_due_to_queue_size:\n",
        "            self.skipped_needs[station][index] = self.needs[station]\n",
        "\n",
        "    def get_waiting_time(self, index, station):\n",
        "        return (\n",
        "            len(self.queues[index][station].queue) * self.average_waiting_times[station]\n",
        "        )\n",
        "\n",
        "    def update_need(self, station):\n",
        "        time_difference = self.env.now - self.previous_times[station]\n",
        "        self.needs[station] += self.need_functions[station](time_difference)\n",
        "        self.previous_times[station] = self.env.now\n",
        "\n",
        "\n",
        "marathon_distance = 42.195\n",
        "\n",
        "average_usage_times = {\n",
        "    \"meal\": 5,\n",
        "    \"water\": 5,\n",
        "    \"toilet\": 40,\n",
        "    \"medical\": 420,\n",
        "}\n",
        "\n",
        "# skip_if_waiting_time_higher = {\n",
        "#     \"meal\": 120,\n",
        "#     \"water\": 120,\n",
        "#     \"toilet\": 180,\n",
        "#     \"medical\": 600,\n",
        "# }\n",
        "\n",
        "skip_if_waiting_time_higher = {\n",
        "    \"meal\": math.inf,\n",
        "    \"water\": math.inf,\n",
        "    \"toilet\": math.inf,\n",
        "    \"medical\": math.inf,\n",
        "}\n",
        "\n",
        "water_drinking_time = lambda: max(np.random.normal(average_usage_times[\"water\"], 2), 1)\n",
        "meal_time = lambda: max(np.random.normal(average_usage_times[\"meal\"], 2), 1)\n",
        "toilet_time = lambda: max(np.random.normal(average_usage_times[\"toilet\"], 10), 5)\n",
        "medical_time = lambda: max(np.random.normal(average_usage_times[\"medical\"], 100), 30)\n",
        "\n",
        "usage_times = {\n",
        "    \"water\": water_drinking_time,\n",
        "    \"meal\": meal_time,\n",
        "    \"toilet\": toilet_time,\n",
        "    \"medical\": medical_time,\n",
        "}\n",
        "\n",
        "need_functions = {\n",
        "    \"meal\": lambda x: x / 3600.0,  # once per hour\n",
        "    \"water\": lambda x: x / 3600.0 * 3.0,  # three times per hour\n",
        "    \"toilet\": lambda x: x / 3600.0 / 2.0,  # once per 2 hours\n",
        "    \"medical\": lambda x: x\n",
        "    / 3600.0\n",
        "    / 1000,  # over the course of the race, 1 in 5 runners needs medical attention\n",
        "}\n",
        "\n",
        "need_satisfaction = {\n",
        "    \"meal\": lambda x: x - 1.0,\n",
        "    \"water\": lambda x: x - 1.0,\n",
        "    \"toilet\": lambda x: x - 1.0,\n",
        "    \"medical\": lambda x: x - 1.0,\n",
        "}\n",
        "\n",
        "# Resources\n",
        "\n",
        "# – Km5: WC, Water, Isotonic drink and Medical sevices\n",
        "# – Km10: WC, Water, Isotonic drink and Medical sevices\n",
        "# – Km 15: WC, Water, Isotonic drink, Medical sevices and Finsher Gel\n",
        "# – Km 20: WC, Water, Isotonic drink, Medical sevices, Finsher Gel and Banana\n",
        "# – Km 25: WC, Water, Isotonic drink, Medical sevices, Finsher Gel and Banana\n",
        "# – Km 27,5: WC, Water, and Isotonic drink\n",
        "# – Km 30: WC, Water, Isotonic drink, Medical sevices, Finsher Gel and Banana\n",
        "# – Km 32,5: WC, Water, and Isotonic drink\n",
        "# – Km 35: WC, Water, Isotonic drink, Medical sevices, Finsher Gel and Banana\n",
        "# – Km 37,5: WC, Water, Isotonic drink, and Finsher Gel\n",
        "# – Km 40: WC, Water, Isotonic drink, Medical sevices and Banana\n",
        "\n",
        "\n",
        "def assign_resources(\n",
        "    env, meal_capacities, water_capacities, toilet_capacities, medical_capacities\n",
        "):\n",
        "    return [\n",
        "        {  # km 5\n",
        "            \"water\": MonitoredResource(env, water_capacities[0]),\n",
        "            \"toilet\": MonitoredResource(env, toilet_capacities[0]),\n",
        "            \"medical\": MonitoredResource(env, medical_capacities[0]),\n",
        "        },\n",
        "        {  # km 10\n",
        "            \"water\": MonitoredResource(env, water_capacities[1]),\n",
        "            \"toilet\": MonitoredResource(env, toilet_capacities[1]),\n",
        "            \"medical\": MonitoredResource(env, medical_capacities[1]),\n",
        "        },\n",
        "        {  # km 15\n",
        "            \"meal\": MonitoredResource(env, meal_capacities[2]),\n",
        "            \"water\": MonitoredResource(env, water_capacities[2]),\n",
        "            \"toilet\": MonitoredResource(env, toilet_capacities[2]),\n",
        "            \"medical\": MonitoredResource(env, medical_capacities[2]),\n",
        "        },\n",
        "        {  # km 20\n",
        "            \"meal\": MonitoredResource(env, meal_capacities[3]),\n",
        "            \"water\": MonitoredResource(env, water_capacities[3]),\n",
        "            \"toilet\": MonitoredResource(env, toilet_capacities[3]),\n",
        "            \"medical\": MonitoredResource(env, medical_capacities[3]),\n",
        "        },\n",
        "        {  # km 25\n",
        "            \"meal\": MonitoredResource(env, meal_capacities[4]),\n",
        "            \"water\": MonitoredResource(env, water_capacities[4]),\n",
        "            \"toilet\": MonitoredResource(env, toilet_capacities[4]),\n",
        "            \"medical\": MonitoredResource(env, medical_capacities[4]),\n",
        "        },\n",
        "        {  # km 27.5\n",
        "            \"water\": MonitoredResource(env, water_capacities[5]),\n",
        "            \"toilet\": MonitoredResource(env, toilet_capacities[5]),\n",
        "        },\n",
        "        {  # km 30\n",
        "            \"meal\": MonitoredResource(env, meal_capacities[6]),\n",
        "            \"water\": MonitoredResource(env, water_capacities[6]),\n",
        "            \"toilet\": MonitoredResource(env, toilet_capacities[6]),\n",
        "            \"medical\": MonitoredResource(env, medical_capacities[6]),\n",
        "        },\n",
        "        {  # km 32.5\n",
        "            \"water\": MonitoredResource(env, water_capacities[7]),\n",
        "            \"toilet\": MonitoredResource(env, toilet_capacities[7]),\n",
        "        },\n",
        "        {  # km 35\n",
        "            \"meal\": MonitoredResource(env, meal_capacities[8]),\n",
        "            \"water\": MonitoredResource(env, water_capacities[8]),\n",
        "            \"toilet\": MonitoredResource(env, toilet_capacities[8]),\n",
        "            \"medical\": MonitoredResource(env, medical_capacities[8]),\n",
        "        },\n",
        "        {  # km 37.5\n",
        "            \"meal\": MonitoredResource(env, meal_capacities[9]),\n",
        "            \"water\": MonitoredResource(env, water_capacities[9]),\n",
        "            \"toilet\": MonitoredResource(env, toilet_capacities[9]),\n",
        "        },\n",
        "        {  # km 40\n",
        "            \"meal\": MonitoredResource(env, meal_capacities[10]),\n",
        "            \"water\": MonitoredResource(env, water_capacities[10]),\n",
        "            \"toilet\": MonitoredResource(env, toilet_capacities[10]),\n",
        "            \"medical\": MonitoredResource(env, medical_capacities[10]),\n",
        "        },\n",
        "        {},  # Finishing line\n",
        "    ]\n",
        "\n",
        "\n",
        "distances = [5.0, 5.0, 5.0, 5.0, 5.0, 2.5, 2.5, 2.5, 2.5, 2.5, 2.5, 2.195]\n",
        "num_stations = 11\n",
        "\n",
        "\n",
        "def generate_running_function(mean_total_running_time, running_time_stddev):\n",
        "    expected_finishing_time = np.random.normal(\n",
        "        mean_total_running_time, running_time_stddev\n",
        "    )\n",
        "    return lambda distance: expected_finishing_time * distance / marathon_distance\n",
        "\n",
        "\n",
        "def run_simulation_with_capacities(\n",
        "    mean_total_running_time,\n",
        "    usage_times,\n",
        "    need_functions,\n",
        "    meal_capacities,\n",
        "    water_capacities,\n",
        "    toilet_capacities,\n",
        "    medical_capacities,\n",
        "    num_runners = 8303\n",
        "):\n",
        "    env = simpy.Environment()\n",
        "    resources = assign_resources(\n",
        "        env,\n",
        "        meal_capacities=meal_capacities,\n",
        "        water_capacities=water_capacities,\n",
        "        toilet_capacities=toilet_capacities,\n",
        "        medical_capacities=medical_capacities,\n",
        "    )\n",
        "\n",
        "    running_time_stddev = 1200\n",
        "\n",
        "    # create runners\n",
        "    runners = []\n",
        "    for i in range(0, num_runners):\n",
        "        runners.append(\n",
        "            Runner(\n",
        "                env,\n",
        "                name=\"runner %i\" % i,\n",
        "                running_time=generate_running_function(\n",
        "                    mean_total_running_time, running_time_stddev\n",
        "                ),\n",
        "                distances=distances,\n",
        "                queues=resources,\n",
        "                usage_times=usage_times,\n",
        "                need_functions=need_functions,\n",
        "                need_satisfaction=need_satisfaction,\n",
        "                average_waiting_times=average_usage_times,\n",
        "                skip_if_waiting_time_higher=skip_if_waiting_time_higher,\n",
        "            )\n",
        "        )\n",
        "\n",
        "    # running simulation\n",
        "    env.run()\n",
        "    return (runners, resources)\n",
        "\n",
        "\n",
        "def run_simulation(\n",
        "    mean_total_running_time,\n",
        "    usage_times,\n",
        "    need_functions,\n",
        "    meal_capacity=10,\n",
        "    water_capacity=10,\n",
        "    toilet_capacity=10,\n",
        "    medical_capacity=10,\n",
        "):\n",
        "    meal_capacities = [meal_capacity] * num_stations\n",
        "    water_capacities = [water_capacity] * num_stations\n",
        "    toilet_capacities = [toilet_capacity] * num_stations\n",
        "    medical_capacities = [medical_capacity] * num_stations\n",
        "    return run_simulation_with_capacities(\n",
        "        mean_total_running_time,\n",
        "        usage_times,\n",
        "        need_functions,\n",
        "        meal_capacities = meal_capacities,\n",
        "        water_capacities = water_capacities,\n",
        "        toilet_capacities = toilet_capacities,\n",
        "        medical_capacities = medical_capacities,\n",
        "    )\n",
        "\n",
        "\n",
        "runners, resources = run_simulation(\n",
        "    11933.0,\n",
        "    usage_times,\n",
        "    need_functions,\n",
        "    meal_capacity=40,\n",
        "    water_capacity=80,\n",
        "    toilet_capacity=45,\n",
        "    medical_capacity=5,\n",
        ")\n",
        "resource_names = ['meal', 'medical', 'toilet', 'water']\n"
      ],
      "metadata": {
        "id": "U9taHxePN0ga",
        "collapsed": true
      },
      "execution_count": 4,
      "outputs": []
    },
    {
      "cell_type": "markdown",
      "source": [
        "## Binary Search"
      ],
      "metadata": {
        "id": "uyLx9jF43Gj6"
      }
    },
    {
      "cell_type": "code",
      "source": [
        "import copy\n",
        "def queue_size_binary_search(min_allowed_max_waiting_time = 7, max_allowed_waiting_time = 15):\n",
        "  base_mean_speed = 11933.0\n",
        "  max_num_resources= 180\n",
        "  obtained_bounds= []\n",
        "  obtained_meal_capacities = []\n",
        "  obtained_water_capacities = []\n",
        "  obtained_toilet_capacities = []\n",
        "  obtained_medical_capacities = []\n",
        "  for i in range(0, num_stations):\n",
        "    upper_bounds = {k: max_num_resources for k in resource_names}\n",
        "    lower_bounds = {k: 1 for k in resource_names}\n",
        "\n",
        "    has_incorrect_capacity = True\n",
        "    next_tried_capacity = {}\n",
        "    print(\"obtaining bounds for station {}\". format(i))\n",
        "    present_stations = []\n",
        "    max_waiting_times = {}\n",
        "    while has_incorrect_capacity:\n",
        "      next_tried_capacity = {k: (upper_bounds[k] + lower_bounds[k]) // 2 for k in resource_names}\n",
        "      # print(\"trying with capacities: {}\".format(next_tried_capacity))\n",
        "      meal_capacities = obtained_meal_capacities + [next_tried_capacity[\"meal\"]] + [max_num_resources] * (num_stations - len(obtained_meal_capacities))\n",
        "      water_capacities = obtained_water_capacities + [next_tried_capacity[\"water\"]] + [max_num_resources] * (num_stations - len(obtained_water_capacities))\n",
        "      toilet_capacities = obtained_toilet_capacities + [next_tried_capacity[\"toilet\"]] + [max_num_resources] * (num_stations - len(obtained_toilet_capacities))\n",
        "      medical_capacities = obtained_medical_capacities + [next_tried_capacity[\"medical\"]] + [max_num_resources] * (num_stations - len(obtained_medical_capacities))\n",
        "      ru, re = run_simulation_with_capacities(\n",
        "          base_mean_speed,\n",
        "          usage_times,\n",
        "          need_functions,\n",
        "          meal_capacities = meal_capacities,\n",
        "          water_capacities = water_capacities,\n",
        "          toilet_capacities = toilet_capacities,\n",
        "          medical_capacities = medical_capacities,\n",
        "          num_runners = 8303\n",
        "      )\n",
        "      max_waiting_times = {k: np.max(re[i][k].waiting_times + [0])  for k in re[i]}\n",
        "      # Tighten the bounds based on the simulation\n",
        "      has_incorrect_capacity = False\n",
        "      present_stations = list(max_waiting_times.keys())\n",
        "      for resource_name in max_waiting_times:\n",
        "        if upper_bounds[resource_name] - lower_bounds[resource_name] <= 0:\n",
        "          next_tried_capacity[resource_name]= max(upper_bounds[resource_name], lower_bounds[resource_name])\n",
        "          continue\n",
        "        if max_waiting_times[resource_name] > max_allowed_waiting_time:\n",
        "          lower_bounds[resource_name] = next_tried_capacity[resource_name] + 1\n",
        "          has_incorrect_capacity = True\n",
        "        elif max_waiting_times[resource_name] < min_allowed_max_waiting_time:\n",
        "          upper_bounds[resource_name] = next_tried_capacity[resource_name]\n",
        "          has_incorrect_capacity = True\n",
        "\n",
        "    print(\"Max waiting times {}\".format(max_waiting_times))\n",
        "    obtained_bounds.append({'upper': {k: upper_bounds[k] for k in present_stations}, 'lower': {k: lower_bounds[k] for k in present_stations}})\n",
        "    obtained_meal_capacities.append(next_tried_capacity['meal'] if 'meal' in present_stations else None)\n",
        "    obtained_water_capacities.append(next_tried_capacity['water'] if 'water' in present_stations else None)\n",
        "    obtained_toilet_capacities.append(next_tried_capacity['toilet'] if 'toilet' in present_stations else None)\n",
        "    obtained_medical_capacities.append(next_tried_capacity['medical'] if 'medical' in present_stations else None)\n",
        "\n",
        "  return {\n",
        "    'obtained_bounds':obtained_bounds,\n",
        "    'obtained_meal_capacities': obtained_meal_capacities,\n",
        "    'obtained_water_capacities': obtained_water_capacities,\n",
        "    'obtained_toilet_capacities': obtained_toilet_capacities,\n",
        "    'obtained_medical_capacities': obtained_medical_capacities\n",
        "  }\n",
        "right_sized = queue_size_binary_search()\n",
        "right_sized"
      ],
      "metadata": {
        "colab": {
          "base_uri": "https://localhost:8080/"
        },
        "id": "8ZCmvE9XgQzx",
        "outputId": "e28d211d-e3cb-4f90-aaad-37deb5452c3e"
      },
      "execution_count": null,
      "outputs": [
        {
          "output_type": "stream",
          "name": "stdout",
          "text": [
            "obtaining bounds for station 0\n",
            "Max waiting times {'water': 13.427739318618706, 'toilet': 10.156931283049062, 'medical': 317.33258853964435}\n",
            "obtaining bounds for station 1\n",
            "Max waiting times {'water': 8.738380588527434, 'toilet': 10.213141984312642, 'medical': 0.0}\n",
            "obtaining bounds for station 2\n",
            "Max waiting times {'meal': 7.766025768055442, 'water': 7.991146008434043, 'toilet': 27.717124302619595, 'medical': 119.89724787608611}\n",
            "obtaining bounds for station 3\n",
            "Max waiting times {'meal': 3.7356856049927956, 'water': 5.6757324956633965, 'toilet': 8.59323226190736, 'medical': 135.19793161854705}\n",
            "obtaining bounds for station 4\n",
            "Max waiting times {'meal': 7.218114679176324, 'water': 4.988707662316301, 'toilet': 10.79451056839298, 'medical': 0.0}\n",
            "obtaining bounds for station 5\n",
            "Max waiting times {'water': 14.467146360173501, 'toilet': 7.741332277546462}\n",
            "obtaining bounds for station 6\n",
            "Max waiting times {'meal': 10.116830754761395, 'water': 7.016028285557695, 'toilet': 12.879005634191344, 'medical': 106.16160964170376}\n",
            "obtaining bounds for station 7\n",
            "Max waiting times {'water': 7.893506433598304, 'toilet': 12.296704211426913}\n",
            "obtaining bounds for station 8\n",
            "Max waiting times {'meal': 9.500056591068642, 'water': 5.500482076215121, 'toilet': 10.286547654635797, 'medical': 0.0}\n",
            "obtaining bounds for station 9\n",
            "Max waiting times {'meal': 11.446287156362814, 'water': 14.57001084829244, 'toilet': 9.521527334502025}\n",
            "obtaining bounds for station 10\n",
            "Max waiting times {'meal': 6.33744978507093, 'water': 6.457752987211279, 'toilet': 19.180025242458214, 'medical': 66.29447810116471}\n"
          ]
        },
        {
          "output_type": "execute_result",
          "data": {
            "text/plain": [
              "{'obtained_bounds': [{'upper': {'water': 105, 'toilet': 167, 'medical': 4},\n",
              "   'lower': {'water': 103, 'toilet': 167, 'medical': 4}},\n",
              "  {'upper': {'water': 53, 'toilet': 133, 'medical': 7},\n",
              "   'lower': {'water': 53, 'toilet': 133, 'medical': 7}},\n",
              "  {'upper': {'meal': 37, 'water': 36, 'toilet': 79, 'medical': 5},\n",
              "   'lower': {'meal': 35, 'water': 35, 'toilet': 79, 'medical': 5}},\n",
              "  {'upper': {'meal': 18, 'water': 27, 'toilet': 39, 'medical': 6},\n",
              "   'lower': {'meal': 18, 'water': 27, 'toilet': 38, 'medical': 6}},\n",
              "  {'upper': {'meal': 11, 'water': 22, 'toilet': 18, 'medical': 6},\n",
              "   'lower': {'meal': 10, 'water': 22, 'toilet': 16, 'medical': 6}},\n",
              "  {'upper': {'water': 21, 'toilet': 26}, 'lower': {'water': 19, 'toilet': 26}},\n",
              "  {'upper': {'meal': 12, 'water': 18, 'toilet': 34, 'medical': 5},\n",
              "   'lower': {'meal': 7, 'water': 18, 'toilet': 34, 'medical': 5}},\n",
              "  {'upper': {'water': 17, 'toilet': 34}, 'lower': {'water': 16, 'toilet': 30}},\n",
              "  {'upper': {'meal': 9, 'water': 13, 'toilet': 32, 'medical': 9},\n",
              "   'lower': {'meal': 7, 'water': 13, 'toilet': 30, 'medical': 9}},\n",
              "  {'upper': {'meal': 5, 'water': 11, 'toilet': 28},\n",
              "   'lower': {'meal': 4, 'water': 10, 'toilet': 27}},\n",
              "  {'upper': {'meal': 5, 'water': 11, 'toilet': 18, 'medical': 8},\n",
              "   'lower': {'meal': 5, 'water': 11, 'toilet': 18, 'medical': 8}}],\n",
              " 'obtained_meal_capacities': [None, None, 36, 18, 10, None, 9, None, 8, 4, 5],\n",
              " 'obtained_water_capacities': [104, 53, 35, 27, 22, 20, 18, 16, 13, 10, 11],\n",
              " 'obtained_toilet_capacities': [167, 133, 79, 38, 17, 26, 34, 32, 31, 27, 18],\n",
              " 'obtained_medical_capacities': [4, 7, 5, 6, 6, None, 5, None, 9, None, 8]}"
            ]
          },
          "metadata": {},
          "execution_count": 4
        }
      ]
    },
    {
      "cell_type": "code",
      "source": [
        "right_sized"
      ],
      "metadata": {
        "colab": {
          "base_uri": "https://localhost:8080/"
        },
        "id": "Nq84v5LIsQyH",
        "outputId": "d5c19f14-b03d-4b62-9b3f-8e8768567467"
      },
      "execution_count": null,
      "outputs": [
        {
          "output_type": "execute_result",
          "data": {
            "text/plain": [
              "{'obtained_bounds': [{'upper': {'water': 105, 'toilet': 167, 'medical': 4},\n",
              "   'lower': {'water': 103, 'toilet': 167, 'medical': 4}},\n",
              "  {'upper': {'water': 53, 'toilet': 133, 'medical': 7},\n",
              "   'lower': {'water': 53, 'toilet': 133, 'medical': 7}},\n",
              "  {'upper': {'meal': 37, 'water': 36, 'toilet': 79, 'medical': 5},\n",
              "   'lower': {'meal': 35, 'water': 35, 'toilet': 79, 'medical': 5}},\n",
              "  {'upper': {'meal': 18, 'water': 27, 'toilet': 39, 'medical': 6},\n",
              "   'lower': {'meal': 18, 'water': 27, 'toilet': 38, 'medical': 6}},\n",
              "  {'upper': {'meal': 11, 'water': 22, 'toilet': 18, 'medical': 6},\n",
              "   'lower': {'meal': 10, 'water': 22, 'toilet': 16, 'medical': 6}},\n",
              "  {'upper': {'water': 21, 'toilet': 26}, 'lower': {'water': 19, 'toilet': 26}},\n",
              "  {'upper': {'meal': 12, 'water': 18, 'toilet': 34, 'medical': 5},\n",
              "   'lower': {'meal': 7, 'water': 18, 'toilet': 34, 'medical': 5}},\n",
              "  {'upper': {'water': 17, 'toilet': 34}, 'lower': {'water': 16, 'toilet': 30}},\n",
              "  {'upper': {'meal': 9, 'water': 13, 'toilet': 32, 'medical': 9},\n",
              "   'lower': {'meal': 7, 'water': 13, 'toilet': 30, 'medical': 9}},\n",
              "  {'upper': {'meal': 5, 'water': 11, 'toilet': 28},\n",
              "   'lower': {'meal': 4, 'water': 10, 'toilet': 27}},\n",
              "  {'upper': {'meal': 5, 'water': 11, 'toilet': 18, 'medical': 8},\n",
              "   'lower': {'meal': 5, 'water': 11, 'toilet': 18, 'medical': 8}}],\n",
              " 'obtained_meal_capacities': [None, None, 36, 18, 10, None, 9, None, 8, 4, 5],\n",
              " 'obtained_water_capacities': [104, 53, 35, 27, 22, 20, 18, 16, 13, 10, 11],\n",
              " 'obtained_toilet_capacities': [167, 133, 79, 38, 17, 26, 34, 32, 31, 27, 18],\n",
              " 'obtained_medical_capacities': [4, 7, 5, 6, 6, None, 5, None, 9, None, 8]}"
            ]
          },
          "metadata": {},
          "execution_count": 5
        }
      ]
    },
    {
      "cell_type": "code",
      "source": [
        "# right_sized_cached = {'obtained_bounds': [{'upper': {'water': 128, 'toilet': 64, 'medical': 4},\n",
        "#    'lower': {'water': 64, 'toilet': 1, 'medical': 3}},\n",
        "#   {'upper': {'water': 64, 'toilet': 64, 'medical': 6},\n",
        "#    'lower': {'water': 32, 'toilet': 1, 'medical': 5}},\n",
        "#   {'upper': {'meal': 64, 'water': 64, 'toilet': 64, 'medical': 4},\n",
        "#    'lower': {'meal': 1, 'water': 1, 'toilet': 1, 'medical': 3}},\n",
        "#   {'upper': {'meal': 16, 'water': 32, 'toilet': 64, 'medical': 5},\n",
        "#    'lower': {'meal': 1, 'water': 16, 'toilet': 1, 'medical': 4}},\n",
        "#   {'upper': {'meal': 14, 'water': 20, 'toilet': 96, 'medical': 7},\n",
        "#    'lower': {'meal': 12, 'water': 18, 'toilet': 80, 'medical': 6}},\n",
        "#   {'upper': {'water': 18, 'toilet': 32}, 'lower': {'water': 16, 'toilet': 1}},\n",
        "#   {'upper': {'meal': 8, 'water': 16, 'toilet': 32, 'medical': 4},\n",
        "#    'lower': {'meal': 1, 'water': 15, 'toilet': 1, 'medical': 3}},\n",
        "#   {'upper': {'water': 16, 'toilet': 64}, 'lower': {'water': 12, 'toilet': 1}},\n",
        "#   {'upper': {'meal': 10, 'water': 16, 'toilet': 32, 'medical': 7},\n",
        "#    'lower': {'meal': 8, 'water': 8, 'toilet': 1, 'medical': 6}},\n",
        "#   {'upper': {'meal': 8, 'water': 16, 'toilet': 32},\n",
        "#    'lower': {'meal': 1, 'water': 1, 'toilet': 1}},\n",
        "#   {'upper': {'meal': 8, 'water': 16, 'toilet': 32, 'medical': 6},\n",
        "#    'lower': {'meal': 1, 'water': 1, 'toilet': 1, 'medical': 5}}],\n",
        "#  'obtained_meal_capacities': [None, None, 32, 8, 13, None, 4, None, 9, 4, 4],\n",
        "#  'obtained_water_capacities': [96, 48, 32, 24, 19, 17, 16, 14, 12, 8, 8],\n",
        "#  'obtained_toilet_capacities': [32, 32, 32, 32, 88, 16, 16, 32, 16, 16, 16],\n",
        "#  'obtained_medical_capacities': [4, 6, 4, 4, 6, None, 4, None, 6, None, 6]}\n",
        "right_sized_cached = {'obtained_bounds': [{'upper': {'water': 105, 'toilet': 167, 'medical': 4},\n",
        "   'lower': {'water': 103, 'toilet': 167, 'medical': 4}},\n",
        "  {'upper': {'water': 53, 'toilet': 133, 'medical': 7},\n",
        "   'lower': {'water': 53, 'toilet': 133, 'medical': 7}},\n",
        "  {'upper': {'meal': 37, 'water': 36, 'toilet': 79, 'medical': 5},\n",
        "   'lower': {'meal': 35, 'water': 35, 'toilet': 79, 'medical': 5}},\n",
        "  {'upper': {'meal': 18, 'water': 27, 'toilet': 39, 'medical': 6},\n",
        "   'lower': {'meal': 18, 'water': 27, 'toilet': 38, 'medical': 6}},\n",
        "  {'upper': {'meal': 11, 'water': 22, 'toilet': 18, 'medical': 6},\n",
        "   'lower': {'meal': 10, 'water': 22, 'toilet': 16, 'medical': 6}},\n",
        "  {'upper': {'water': 21, 'toilet': 26}, 'lower': {'water': 19, 'toilet': 26}},\n",
        "  {'upper': {'meal': 12, 'water': 18, 'toilet': 34, 'medical': 5},\n",
        "   'lower': {'meal': 7, 'water': 18, 'toilet': 34, 'medical': 5}},\n",
        "  {'upper': {'water': 17, 'toilet': 34}, 'lower': {'water': 16, 'toilet': 30}},\n",
        "  {'upper': {'meal': 9, 'water': 13, 'toilet': 32, 'medical': 9},\n",
        "   'lower': {'meal': 7, 'water': 13, 'toilet': 30, 'medical': 9}},\n",
        "  {'upper': {'meal': 5, 'water': 11, 'toilet': 28},\n",
        "   'lower': {'meal': 4, 'water': 10, 'toilet': 27}},\n",
        "  {'upper': {'meal': 5, 'water': 11, 'toilet': 18, 'medical': 8},\n",
        "   'lower': {'meal': 5, 'water': 11, 'toilet': 18, 'medical': 8}}],\n",
        " 'obtained_meal_capacities': [None, None, 36, 18, 10, None, 9, None, 8, 4, 5],\n",
        " 'obtained_water_capacities': [104, 53, 35, 27, 22, 20, 18, 16, 13, 10, 11],\n",
        " 'obtained_toilet_capacities': [167, 133, 79, 38, 17, 26, 34, 32, 31, 27, 18],\n",
        " 'obtained_medical_capacities': [4, 7, 5, 6, 6, None, 5, None, 9, None, 8]}"
      ],
      "metadata": {
        "id": "8sUexRYyyMp9"
      },
      "execution_count": 6,
      "outputs": []
    },
    {
      "cell_type": "code",
      "source": [
        "#right_sized_cached = right_sized # comment this in case you want to use cached values"
      ],
      "metadata": {
        "id": "mStGEzvzhN4F"
      },
      "execution_count": null,
      "outputs": []
    },
    {
      "cell_type": "code",
      "source": [
        "sum(right_sized_cached['obtained_toilet_capacities'])"
      ],
      "metadata": {
        "colab": {
          "base_uri": "https://localhost:8080/"
        },
        "id": "5sEvkER7pdOd",
        "outputId": "e6ddd4be-64a4-487b-dcb3-69f4c03bd143"
      },
      "execution_count": null,
      "outputs": [
        {
          "output_type": "execute_result",
          "data": {
            "text/plain": [
              "602"
            ]
          },
          "metadata": {},
          "execution_count": 6
        }
      ]
    },
    {
      "cell_type": "markdown",
      "source": [
        "## Latex"
      ],
      "metadata": {
        "id": "Nva2DdtEfXWF"
      }
    },
    {
      "cell_type": "code",
      "source": [
        "only_capacities = {k:v for k,v in right_sized_cached.items() if k != 'obtained_bounds'}\n",
        "print(pd.DataFrame(only_capacities).to_latex())"
      ],
      "metadata": {
        "colab": {
          "base_uri": "https://localhost:8080/"
        },
        "id": "6nwhQLwZfW5W",
        "outputId": "82fe0d97-e1a7-46f9-8546-25fd11de0695"
      },
      "execution_count": null,
      "outputs": [
        {
          "output_type": "stream",
          "name": "stdout",
          "text": [
            "\\begin{tabular}{lrrrr}\n",
            "\\toprule\n",
            " & obtained_meal_capacities & obtained_water_capacities & obtained_toilet_capacities & obtained_medical_capacities \\\\\n",
            "\\midrule\n",
            "0 & NaN & 104 & 167 & 4.000000 \\\\\n",
            "1 & NaN & 53 & 133 & 7.000000 \\\\\n",
            "2 & 36.000000 & 35 & 79 & 5.000000 \\\\\n",
            "3 & 18.000000 & 27 & 38 & 6.000000 \\\\\n",
            "4 & 10.000000 & 22 & 17 & 6.000000 \\\\\n",
            "5 & NaN & 20 & 26 & NaN \\\\\n",
            "6 & 9.000000 & 18 & 34 & 5.000000 \\\\\n",
            "7 & NaN & 16 & 32 & NaN \\\\\n",
            "8 & 8.000000 & 13 & 31 & 9.000000 \\\\\n",
            "9 & 4.000000 & 10 & 27 & NaN \\\\\n",
            "10 & 5.000000 & 11 & 18 & 8.000000 \\\\\n",
            "\\bottomrule\n",
            "\\end{tabular}\n",
            "\n"
          ]
        }
      ]
    },
    {
      "cell_type": "markdown",
      "source": [
        "## Repeated Runs"
      ],
      "metadata": {
        "id": "gwS2sU2pa5jK"
      }
    },
    {
      "cell_type": "code",
      "source": [
        "def obtain_repeated_results(num_runs = 3):\n",
        "  results = []\n",
        "  base_mean_speed = 11933.0\n",
        "\n",
        "  for i in range(0, num_runs):\n",
        "    print('.', end='')\n",
        "    ru,re = run_simulation_with_capacities(\n",
        "      base_mean_speed,\n",
        "      usage_times,\n",
        "      need_functions,\n",
        "      meal_capacities=right_sized_cached['obtained_meal_capacities'],\n",
        "      water_capacities=right_sized_cached['obtained_water_capacities'],\n",
        "      toilet_capacities=right_sized_cached['obtained_toilet_capacities'],\n",
        "      medical_capacities=right_sized_cached['obtained_medical_capacities']\n",
        "    )\n",
        "    results.append({'resources': re, 'runners': ru})\n",
        "  return results\n",
        "repeated_executions = obtain_repeated_results(50)"
      ],
      "metadata": {
        "id": "_GbHYFIma8g5",
        "colab": {
          "base_uri": "https://localhost:8080/"
        },
        "outputId": "94c751eb-a91a-4646-eadb-64be7f01d9d7"
      },
      "execution_count": null,
      "outputs": [
        {
          "output_type": "stream",
          "name": "stdout",
          "text": [
            ".................................................."
          ]
        }
      ]
    },
    {
      "cell_type": "markdown",
      "source": [
        "## Linear Model"
      ],
      "metadata": {
        "id": "pMzuNxnn-7iv"
      }
    },
    {
      "cell_type": "code",
      "source": [
        "linear_factors = {\n",
        "      'humidity': {\n",
        "          'medium': 0.08 * 60,\n",
        "          'high': 0.56 * 60\n",
        "      },\n",
        "      'temperature': {\n",
        "          'medium': 0.04 * 60,\n",
        "          'high': 1.87 * 60\n",
        "      },\n",
        "      'wind': {\n",
        "          'medium': 1.51 * 60,\n",
        "          'high': 1.35 * 60\n",
        "      }\n",
        "  }\n",
        "\n",
        "conditions_2017_marathon = {\n",
        "    'humidity': 'medium',\n",
        "    'temperature': 'medium',\n",
        "    'wind': 'medium'\n",
        "}\n",
        "\n",
        "def run_linear_simulation(h, t, w):\n",
        "  base_mean_speed = 11933.0 - sum([linear_factors[k][v] for k,v in conditions_2017_marathon.items()])\n",
        "  mean_speed = base_mean_speed + linear_factors['humidity'][h]+ linear_factors['temperature'][t]+ linear_factors['wind'][w]\n",
        "\n",
        "  meal_capacity = 40\n",
        "  water_capacity = 80\n",
        "  toilet_capacity = 45\n",
        "  medical_capacity = 5\n",
        "\n",
        "\n",
        "  ru, re = run_simulation_with_capacities(\n",
        "      mean_speed,\n",
        "      usage_times,\n",
        "      need_functions,\n",
        "      meal_capacities=right_sized_cached['obtained_meal_capacities'],\n",
        "      water_capacities=right_sized_cached['obtained_water_capacities'],\n",
        "      toilet_capacities=right_sized_cached['obtained_toilet_capacities'],\n",
        "      medical_capacities=right_sized_cached['obtained_medical_capacities']\n",
        "    )\n",
        "  return{\n",
        "      'humidity': h,\n",
        "      'temperature': t,\n",
        "      'wind': w,\n",
        "      'runners': ru,\n",
        "      'resources': re\n",
        "  }\n",
        "\n",
        "def obtain_linear_results():\n",
        "  results = []\n",
        "\n",
        "  for h in linear_factors['humidity']:\n",
        "    for t in linear_factors['temperature']:\n",
        "      for w in linear_factors['wind']:\n",
        "        results.append(run_linear_simulation(h,t,w))\n",
        "\n",
        "  return results\n",
        "\n",
        "linear_results = obtain_linear_results()"
      ],
      "metadata": {
        "id": "eSzCHbc6-5kJ"
      },
      "execution_count": 7,
      "outputs": []
    },
    {
      "cell_type": "markdown",
      "source": [
        "# Statistical Helpers"
      ],
      "metadata": {
        "id": "BiOnqLeXEaao"
      }
    },
    {
      "cell_type": "code",
      "source": [
        "import pandas as pd\n",
        "import scipy\n"
      ],
      "metadata": {
        "id": "QfPpIIr_EmoL"
      },
      "execution_count": 8,
      "outputs": []
    },
    {
      "cell_type": "code",
      "source": [
        "import types\n",
        "\n",
        "no_waiting = types.SimpleNamespace()\n",
        "no_waiting.waiting_times = [0]\n",
        "\n",
        "def waiting_times(resources, station):\n",
        "  return [ q.get(station, no_waiting).waiting_times for q in resources  ]"
      ],
      "metadata": {
        "id": "yAJK606REusl"
      },
      "execution_count": 9,
      "outputs": []
    },
    {
      "cell_type": "code",
      "source": [
        "def runners_needs(runners, resource_name):\n",
        "  return [\n",
        "    [runner.current_needs[resource_name][i] for runner in runners ]\n",
        "    for i in range(0, len(runners[0].current_needs[resource_name]))\n",
        "  ]\n",
        "\n",
        "def median_need_by_station(runners, resource_names):\n",
        "  return {resource_name: [np.median(station_needs) for station_needs in runners_needs(runners, resource_name)] for resource_name in resource_names}"
      ],
      "metadata": {
        "id": "VxeU5DqRUdyo"
      },
      "execution_count": 10,
      "outputs": []
    },
    {
      "cell_type": "code",
      "source": [
        "def runners_skipped_resource(runners, resource_name):\n",
        "  skipped = [ [1 if need != None else 0 for need in runner.skipped_needs[resource_name] ] for runner in runners]\n",
        "  return np.sum(skipped, axis=0)\n",
        "\n",
        "def total_skipped_by_station(runners, resource_names):\n",
        "  return {resource_name: runners_skipped_resource(runners, resource_name) for resource_name in resource_names}"
      ],
      "metadata": {
        "id": "AOwZXdP0u0BV"
      },
      "execution_count": 11,
      "outputs": []
    },
    {
      "cell_type": "code",
      "source": [
        "def num_users(resources, resource_name):\n",
        "  return [len(resource[resource_name].waiting_times) if resource_name in resource else 0 for resource in resources]"
      ],
      "metadata": {
        "id": "xzLzST02kc5P"
      },
      "execution_count": 12,
      "outputs": []
    },
    {
      "cell_type": "code",
      "source": [
        "def compute_resource_statistics(resources, resource_name):\n",
        "  w = waiting_times(resources, resource_name)\n",
        "  non_empty_w = filter(lambda q: len(q) > 0,w)\n",
        "  flattened_w = [t for q in w for t in q ]\n",
        "  return {\n",
        "    'resource': resource_name,\n",
        "    'max queue': (np.max(flattened_w)),\n",
        "    'max median queue': (np.max([np.median(q) for q in non_empty_w])),\n",
        "    'average overall': (np.mean(flattened_w))\n",
        "  }"
      ],
      "metadata": {
        "id": "aXwjjptpVcCx"
      },
      "execution_count": 13,
      "outputs": []
    },
    {
      "cell_type": "markdown",
      "source": [
        "# Analyze Repeated Executions"
      ],
      "metadata": {
        "id": "__yRC-2o4FgW"
      }
    },
    {
      "cell_type": "code",
      "source": [
        "def obtain_repeated_data_frame(repeated_results, resource_name):\n",
        "  stats = [compute_resource_statistics(r['resources'], resource_name) for r in repeated_results]\n",
        "  return pd.DataFrame(stats)"
      ],
      "metadata": {
        "id": "h5feHR2f4IV_"
      },
      "execution_count": 14,
      "outputs": []
    },
    {
      "cell_type": "code",
      "source": [
        "repeated_data_frames = {k: obtain_repeated_data_frame(repeated_executions, k) for k in resource_names}"
      ],
      "metadata": {
        "id": "T9qj2RtH-lu2",
        "colab": {
          "base_uri": "https://localhost:8080/",
          "height": 202
        },
        "outputId": "c60cd269-2b59-41f3-ade8-5ab8f9cc2447"
      },
      "execution_count": 15,
      "outputs": [
        {
          "output_type": "error",
          "ename": "NameError",
          "evalue": "name 'repeated_executions' is not defined",
          "traceback": [
            "\u001b[0;31m---------------------------------------------------------------------------\u001b[0m",
            "\u001b[0;31mNameError\u001b[0m                                 Traceback (most recent call last)",
            "\u001b[0;32m<ipython-input-15-4d90f6a1eebc>\u001b[0m in \u001b[0;36m<cell line: 1>\u001b[0;34m()\u001b[0m\n\u001b[0;32m----> 1\u001b[0;31m \u001b[0mrepeated_data_frames\u001b[0m \u001b[0;34m=\u001b[0m \u001b[0;34m{\u001b[0m\u001b[0mk\u001b[0m\u001b[0;34m:\u001b[0m \u001b[0mobtain_repeated_data_frame\u001b[0m\u001b[0;34m(\u001b[0m\u001b[0mrepeated_executions\u001b[0m\u001b[0;34m,\u001b[0m \u001b[0mk\u001b[0m\u001b[0;34m)\u001b[0m \u001b[0;32mfor\u001b[0m \u001b[0mk\u001b[0m \u001b[0;32min\u001b[0m \u001b[0mresource_names\u001b[0m\u001b[0;34m}\u001b[0m\u001b[0;34m\u001b[0m\u001b[0;34m\u001b[0m\u001b[0m\n\u001b[0m",
            "\u001b[0;32m<ipython-input-15-4d90f6a1eebc>\u001b[0m in \u001b[0;36m<dictcomp>\u001b[0;34m(.0)\u001b[0m\n\u001b[0;32m----> 1\u001b[0;31m \u001b[0mrepeated_data_frames\u001b[0m \u001b[0;34m=\u001b[0m \u001b[0;34m{\u001b[0m\u001b[0mk\u001b[0m\u001b[0;34m:\u001b[0m \u001b[0mobtain_repeated_data_frame\u001b[0m\u001b[0;34m(\u001b[0m\u001b[0mrepeated_executions\u001b[0m\u001b[0;34m,\u001b[0m \u001b[0mk\u001b[0m\u001b[0;34m)\u001b[0m \u001b[0;32mfor\u001b[0m \u001b[0mk\u001b[0m \u001b[0;32min\u001b[0m \u001b[0mresource_names\u001b[0m\u001b[0;34m}\u001b[0m\u001b[0;34m\u001b[0m\u001b[0;34m\u001b[0m\u001b[0m\n\u001b[0m",
            "\u001b[0;31mNameError\u001b[0m: name 'repeated_executions' is not defined"
          ]
        }
      ]
    },
    {
      "cell_type": "code",
      "source": [
        "repeated_data_frames['water'].describe()"
      ],
      "metadata": {
        "id": "_AtXdQ1T5lW8"
      },
      "execution_count": null,
      "outputs": []
    },
    {
      "cell_type": "code",
      "source": [
        "repeated_data_frames['meal'].describe()"
      ],
      "metadata": {
        "id": "CqtnuOgN63Gd"
      },
      "execution_count": null,
      "outputs": []
    },
    {
      "cell_type": "code",
      "source": [
        "repeated_data_frames['medical'].describe()"
      ],
      "metadata": {
        "id": "R8wXB_4563eg"
      },
      "execution_count": null,
      "outputs": []
    },
    {
      "cell_type": "code",
      "source": [
        "repeated_data_frames['toilet'].describe()"
      ],
      "metadata": {
        "id": "SIGgC_IP43tW"
      },
      "execution_count": null,
      "outputs": []
    },
    {
      "cell_type": "code",
      "source": [
        "for resource_name in resource_names:\n",
        "  shapiro_test_result = scipy.stats.shapiro(obtain_repeated_data_frame(repeated_executions, resource_name)['max queue'])\n",
        "  print(resource_name)\n",
        "  print(shapiro_test_result)\n"
      ],
      "metadata": {
        "id": "ac8hOEkM8lkR"
      },
      "execution_count": null,
      "outputs": []
    },
    {
      "cell_type": "code",
      "source": [
        "standard_deviations = {k:repeated_data_frames[k]['max queue'].std()  for k in repeated_data_frames}\n",
        "standard_deviations"
      ],
      "metadata": {
        "id": "H12PL-c--gnF"
      },
      "execution_count": null,
      "outputs": []
    },
    {
      "cell_type": "code",
      "source": [
        "all_summaries = []\n",
        "for k in repeated_data_frames:\n",
        "  summary = repeated_data_frames[k].describe().reset_index()\n",
        "  summary.insert(0,'resource', k)\n",
        "  all_summaries.append(summary)\n",
        "all_summaries = pd.concat(all_summaries)\n",
        "all_summaries = all_summaries.rename(columns={'index':'statistic'})\n",
        "all_summaries"
      ],
      "metadata": {
        "id": "5_7s88dSdVeE"
      },
      "execution_count": null,
      "outputs": []
    },
    {
      "cell_type": "markdown",
      "source": [
        "## Latex\n"
      ],
      "metadata": {
        "id": "VAy47NBHecIj"
      }
    },
    {
      "cell_type": "code",
      "source": [
        "def print_latex_statistic(stat_name):\n",
        "  df = all_summaries[all_summaries['statistic'] == stat_name]\n",
        "  print(df.loc[:, df.columns != 'statistic'].to_latex(index=False, float_format=\"%.2f\", escape=True))"
      ],
      "metadata": {
        "id": "3AWpPfuzgXbn"
      },
      "execution_count": null,
      "outputs": []
    },
    {
      "cell_type": "code",
      "source": [
        "print_latex_statistic('50%')"
      ],
      "metadata": {
        "id": "h4AqWRlXfmee"
      },
      "execution_count": null,
      "outputs": []
    },
    {
      "cell_type": "code",
      "source": [
        "print_latex_statistic('max')"
      ],
      "metadata": {
        "id": "Q5vKnowDhSTm"
      },
      "execution_count": null,
      "outputs": []
    },
    {
      "cell_type": "code",
      "source": [
        "print_latex_statistic('std')"
      ],
      "metadata": {
        "id": "4Mf-FgT8ioGr"
      },
      "execution_count": null,
      "outputs": []
    },
    {
      "cell_type": "code",
      "source": [
        "print_latex_statistic('mean')"
      ],
      "metadata": {
        "id": "UDBUpQca1EBg"
      },
      "execution_count": null,
      "outputs": []
    },
    {
      "cell_type": "code",
      "source": [
        "for k in repeated_data_frames:\n",
        "  print(\"\\\\begin{table}\")\n",
        "  print(repeated_data_frames[k].describe().to_latex())\n",
        "  print(\"\\\\caption{Statistical summary for %s resources in repeated runs}\"%k)\n",
        "  print(\"\\\\label{tab:statistics-%s}\" % k)\n",
        "  print(\"\\\\end{table}\\n\\n\")\n"
      ],
      "metadata": {
        "id": "nMz9NXKJee4J"
      },
      "execution_count": null,
      "outputs": []
    },
    {
      "cell_type": "markdown",
      "source": [
        "# Analyze Linear Model Results"
      ],
      "metadata": {
        "id": "NsizIiK3E5y3"
      }
    },
    {
      "cell_type": "code",
      "source": [
        "linear_factors = ['humidity', 'wind', 'temperature']\n",
        "def compute_linear_model_resource_statistics():\n",
        "  columns = linear_factors + ['resource', 'max queue', 'max median queue', 'average overall']\n",
        "  columns = {c: [] for c in columns }\n",
        "  for r in linear_results:\n",
        "    for resource_name in resource_names:\n",
        "      for f in linear_factors:\n",
        "        columns[f].append(r[f])\n",
        "      stats = compute_resource_statistics(r['resources'], resource_name)\n",
        "      for k in stats:\n",
        "        columns[k].append(stats[k])\n",
        "  return columns\n",
        "\n",
        "def compute_linear_model_runner_statistics():\n",
        "  columns = linear_factors + ['mean finish time', 'mean expected finish time']\n",
        "  columns = {c: [] for c in columns }\n",
        "  for r in linear_results:\n",
        "    for f in linear_factors:\n",
        "      columns[f].append(r[f])\n",
        "    columns['mean finish time'].append(np.mean([runner.finishing_time for runner in r['runners']]))\n",
        "    expected_finishing_times = [runner.running_time(marathon_distance) for runner in r['runners']]\n",
        "    columns['mean expected finish time'].append(np.mean(expected_finishing_times))\n",
        "  return columns\n",
        "lin_resource_stats = pd.DataFrame(compute_linear_model_resource_statistics())\n",
        "lin_runner_stats = pd.DataFrame(compute_linear_model_runner_statistics())"
      ],
      "metadata": {
        "id": "6j0c12_aE42s"
      },
      "execution_count": 16,
      "outputs": []
    },
    {
      "cell_type": "code",
      "source": [
        "lin_runner_stats"
      ],
      "metadata": {
        "colab": {
          "base_uri": "https://localhost:8080/",
          "height": 300
        },
        "id": "WF2UwmPHPwHY",
        "outputId": "2bb15d79-42aa-433d-b227-884a4d35f124"
      },
      "execution_count": 17,
      "outputs": [
        {
          "output_type": "execute_result",
          "data": {
            "text/plain": [
              "  humidity    wind temperature  mean finish time  mean expected finish time\n",
              "0   medium  medium      medium      12099.616824               11933.998461\n",
              "1   medium    high      medium      12090.304066               11924.361357\n",
              "2   medium  medium        high      12198.125232               12034.062107\n",
              "3   medium    high        high      12209.372096               12043.155509\n",
              "4     high  medium      medium      12143.427079               11975.476785\n",
              "5     high    high      medium      12101.574470               11938.360595\n",
              "6     high  medium        high      12249.046515               12079.432908\n",
              "7     high    high        high      12215.618512               12049.778100"
            ],
            "text/html": [
              "\n",
              "  <div id=\"df-0f4f04ed-5d4c-44f2-8641-bcffb3396e1d\" class=\"colab-df-container\">\n",
              "    <div>\n",
              "<style scoped>\n",
              "    .dataframe tbody tr th:only-of-type {\n",
              "        vertical-align: middle;\n",
              "    }\n",
              "\n",
              "    .dataframe tbody tr th {\n",
              "        vertical-align: top;\n",
              "    }\n",
              "\n",
              "    .dataframe thead th {\n",
              "        text-align: right;\n",
              "    }\n",
              "</style>\n",
              "<table border=\"1\" class=\"dataframe\">\n",
              "  <thead>\n",
              "    <tr style=\"text-align: right;\">\n",
              "      <th></th>\n",
              "      <th>humidity</th>\n",
              "      <th>wind</th>\n",
              "      <th>temperature</th>\n",
              "      <th>mean finish time</th>\n",
              "      <th>mean expected finish time</th>\n",
              "    </tr>\n",
              "  </thead>\n",
              "  <tbody>\n",
              "    <tr>\n",
              "      <th>0</th>\n",
              "      <td>medium</td>\n",
              "      <td>medium</td>\n",
              "      <td>medium</td>\n",
              "      <td>12099.616824</td>\n",
              "      <td>11933.998461</td>\n",
              "    </tr>\n",
              "    <tr>\n",
              "      <th>1</th>\n",
              "      <td>medium</td>\n",
              "      <td>high</td>\n",
              "      <td>medium</td>\n",
              "      <td>12090.304066</td>\n",
              "      <td>11924.361357</td>\n",
              "    </tr>\n",
              "    <tr>\n",
              "      <th>2</th>\n",
              "      <td>medium</td>\n",
              "      <td>medium</td>\n",
              "      <td>high</td>\n",
              "      <td>12198.125232</td>\n",
              "      <td>12034.062107</td>\n",
              "    </tr>\n",
              "    <tr>\n",
              "      <th>3</th>\n",
              "      <td>medium</td>\n",
              "      <td>high</td>\n",
              "      <td>high</td>\n",
              "      <td>12209.372096</td>\n",
              "      <td>12043.155509</td>\n",
              "    </tr>\n",
              "    <tr>\n",
              "      <th>4</th>\n",
              "      <td>high</td>\n",
              "      <td>medium</td>\n",
              "      <td>medium</td>\n",
              "      <td>12143.427079</td>\n",
              "      <td>11975.476785</td>\n",
              "    </tr>\n",
              "    <tr>\n",
              "      <th>5</th>\n",
              "      <td>high</td>\n",
              "      <td>high</td>\n",
              "      <td>medium</td>\n",
              "      <td>12101.574470</td>\n",
              "      <td>11938.360595</td>\n",
              "    </tr>\n",
              "    <tr>\n",
              "      <th>6</th>\n",
              "      <td>high</td>\n",
              "      <td>medium</td>\n",
              "      <td>high</td>\n",
              "      <td>12249.046515</td>\n",
              "      <td>12079.432908</td>\n",
              "    </tr>\n",
              "    <tr>\n",
              "      <th>7</th>\n",
              "      <td>high</td>\n",
              "      <td>high</td>\n",
              "      <td>high</td>\n",
              "      <td>12215.618512</td>\n",
              "      <td>12049.778100</td>\n",
              "    </tr>\n",
              "  </tbody>\n",
              "</table>\n",
              "</div>\n",
              "    <div class=\"colab-df-buttons\">\n",
              "\n",
              "  <div class=\"colab-df-container\">\n",
              "    <button class=\"colab-df-convert\" onclick=\"convertToInteractive('df-0f4f04ed-5d4c-44f2-8641-bcffb3396e1d')\"\n",
              "            title=\"Convert this dataframe to an interactive table.\"\n",
              "            style=\"display:none;\">\n",
              "\n",
              "  <svg xmlns=\"http://www.w3.org/2000/svg\" height=\"24px\" viewBox=\"0 -960 960 960\">\n",
              "    <path d=\"M120-120v-720h720v720H120Zm60-500h600v-160H180v160Zm220 220h160v-160H400v160Zm0 220h160v-160H400v160ZM180-400h160v-160H180v160Zm440 0h160v-160H620v160ZM180-180h160v-160H180v160Zm440 0h160v-160H620v160Z\"/>\n",
              "  </svg>\n",
              "    </button>\n",
              "\n",
              "  <style>\n",
              "    .colab-df-container {\n",
              "      display:flex;\n",
              "      gap: 12px;\n",
              "    }\n",
              "\n",
              "    .colab-df-convert {\n",
              "      background-color: #E8F0FE;\n",
              "      border: none;\n",
              "      border-radius: 50%;\n",
              "      cursor: pointer;\n",
              "      display: none;\n",
              "      fill: #1967D2;\n",
              "      height: 32px;\n",
              "      padding: 0 0 0 0;\n",
              "      width: 32px;\n",
              "    }\n",
              "\n",
              "    .colab-df-convert:hover {\n",
              "      background-color: #E2EBFA;\n",
              "      box-shadow: 0px 1px 2px rgba(60, 64, 67, 0.3), 0px 1px 3px 1px rgba(60, 64, 67, 0.15);\n",
              "      fill: #174EA6;\n",
              "    }\n",
              "\n",
              "    .colab-df-buttons div {\n",
              "      margin-bottom: 4px;\n",
              "    }\n",
              "\n",
              "    [theme=dark] .colab-df-convert {\n",
              "      background-color: #3B4455;\n",
              "      fill: #D2E3FC;\n",
              "    }\n",
              "\n",
              "    [theme=dark] .colab-df-convert:hover {\n",
              "      background-color: #434B5C;\n",
              "      box-shadow: 0px 1px 3px 1px rgba(0, 0, 0, 0.15);\n",
              "      filter: drop-shadow(0px 1px 2px rgba(0, 0, 0, 0.3));\n",
              "      fill: #FFFFFF;\n",
              "    }\n",
              "  </style>\n",
              "\n",
              "    <script>\n",
              "      const buttonEl =\n",
              "        document.querySelector('#df-0f4f04ed-5d4c-44f2-8641-bcffb3396e1d button.colab-df-convert');\n",
              "      buttonEl.style.display =\n",
              "        google.colab.kernel.accessAllowed ? 'block' : 'none';\n",
              "\n",
              "      async function convertToInteractive(key) {\n",
              "        const element = document.querySelector('#df-0f4f04ed-5d4c-44f2-8641-bcffb3396e1d');\n",
              "        const dataTable =\n",
              "          await google.colab.kernel.invokeFunction('convertToInteractive',\n",
              "                                                    [key], {});\n",
              "        if (!dataTable) return;\n",
              "\n",
              "        const docLinkHtml = 'Like what you see? Visit the ' +\n",
              "          '<a target=\"_blank\" href=https://colab.research.google.com/notebooks/data_table.ipynb>data table notebook</a>'\n",
              "          + ' to learn more about interactive tables.';\n",
              "        element.innerHTML = '';\n",
              "        dataTable['output_type'] = 'display_data';\n",
              "        await google.colab.output.renderOutput(dataTable, element);\n",
              "        const docLink = document.createElement('div');\n",
              "        docLink.innerHTML = docLinkHtml;\n",
              "        element.appendChild(docLink);\n",
              "      }\n",
              "    </script>\n",
              "  </div>\n",
              "\n",
              "\n",
              "<div id=\"df-3bc868be-813f-4d8d-87f1-ab3210ebb3a4\">\n",
              "  <button class=\"colab-df-quickchart\" onclick=\"quickchart('df-3bc868be-813f-4d8d-87f1-ab3210ebb3a4')\"\n",
              "            title=\"Suggest charts\"\n",
              "            style=\"display:none;\">\n",
              "\n",
              "<svg xmlns=\"http://www.w3.org/2000/svg\" height=\"24px\"viewBox=\"0 0 24 24\"\n",
              "     width=\"24px\">\n",
              "    <g>\n",
              "        <path d=\"M19 3H5c-1.1 0-2 .9-2 2v14c0 1.1.9 2 2 2h14c1.1 0 2-.9 2-2V5c0-1.1-.9-2-2-2zM9 17H7v-7h2v7zm4 0h-2V7h2v10zm4 0h-2v-4h2v4z\"/>\n",
              "    </g>\n",
              "</svg>\n",
              "  </button>\n",
              "\n",
              "<style>\n",
              "  .colab-df-quickchart {\n",
              "      --bg-color: #E8F0FE;\n",
              "      --fill-color: #1967D2;\n",
              "      --hover-bg-color: #E2EBFA;\n",
              "      --hover-fill-color: #174EA6;\n",
              "      --disabled-fill-color: #AAA;\n",
              "      --disabled-bg-color: #DDD;\n",
              "  }\n",
              "\n",
              "  [theme=dark] .colab-df-quickchart {\n",
              "      --bg-color: #3B4455;\n",
              "      --fill-color: #D2E3FC;\n",
              "      --hover-bg-color: #434B5C;\n",
              "      --hover-fill-color: #FFFFFF;\n",
              "      --disabled-bg-color: #3B4455;\n",
              "      --disabled-fill-color: #666;\n",
              "  }\n",
              "\n",
              "  .colab-df-quickchart {\n",
              "    background-color: var(--bg-color);\n",
              "    border: none;\n",
              "    border-radius: 50%;\n",
              "    cursor: pointer;\n",
              "    display: none;\n",
              "    fill: var(--fill-color);\n",
              "    height: 32px;\n",
              "    padding: 0;\n",
              "    width: 32px;\n",
              "  }\n",
              "\n",
              "  .colab-df-quickchart:hover {\n",
              "    background-color: var(--hover-bg-color);\n",
              "    box-shadow: 0 1px 2px rgba(60, 64, 67, 0.3), 0 1px 3px 1px rgba(60, 64, 67, 0.15);\n",
              "    fill: var(--button-hover-fill-color);\n",
              "  }\n",
              "\n",
              "  .colab-df-quickchart-complete:disabled,\n",
              "  .colab-df-quickchart-complete:disabled:hover {\n",
              "    background-color: var(--disabled-bg-color);\n",
              "    fill: var(--disabled-fill-color);\n",
              "    box-shadow: none;\n",
              "  }\n",
              "\n",
              "  .colab-df-spinner {\n",
              "    border: 2px solid var(--fill-color);\n",
              "    border-color: transparent;\n",
              "    border-bottom-color: var(--fill-color);\n",
              "    animation:\n",
              "      spin 1s steps(1) infinite;\n",
              "  }\n",
              "\n",
              "  @keyframes spin {\n",
              "    0% {\n",
              "      border-color: transparent;\n",
              "      border-bottom-color: var(--fill-color);\n",
              "      border-left-color: var(--fill-color);\n",
              "    }\n",
              "    20% {\n",
              "      border-color: transparent;\n",
              "      border-left-color: var(--fill-color);\n",
              "      border-top-color: var(--fill-color);\n",
              "    }\n",
              "    30% {\n",
              "      border-color: transparent;\n",
              "      border-left-color: var(--fill-color);\n",
              "      border-top-color: var(--fill-color);\n",
              "      border-right-color: var(--fill-color);\n",
              "    }\n",
              "    40% {\n",
              "      border-color: transparent;\n",
              "      border-right-color: var(--fill-color);\n",
              "      border-top-color: var(--fill-color);\n",
              "    }\n",
              "    60% {\n",
              "      border-color: transparent;\n",
              "      border-right-color: var(--fill-color);\n",
              "    }\n",
              "    80% {\n",
              "      border-color: transparent;\n",
              "      border-right-color: var(--fill-color);\n",
              "      border-bottom-color: var(--fill-color);\n",
              "    }\n",
              "    90% {\n",
              "      border-color: transparent;\n",
              "      border-bottom-color: var(--fill-color);\n",
              "    }\n",
              "  }\n",
              "</style>\n",
              "\n",
              "  <script>\n",
              "    async function quickchart(key) {\n",
              "      const quickchartButtonEl =\n",
              "        document.querySelector('#' + key + ' button');\n",
              "      quickchartButtonEl.disabled = true;  // To prevent multiple clicks.\n",
              "      quickchartButtonEl.classList.add('colab-df-spinner');\n",
              "      try {\n",
              "        const charts = await google.colab.kernel.invokeFunction(\n",
              "            'suggestCharts', [key], {});\n",
              "      } catch (error) {\n",
              "        console.error('Error during call to suggestCharts:', error);\n",
              "      }\n",
              "      quickchartButtonEl.classList.remove('colab-df-spinner');\n",
              "      quickchartButtonEl.classList.add('colab-df-quickchart-complete');\n",
              "    }\n",
              "    (() => {\n",
              "      let quickchartButtonEl =\n",
              "        document.querySelector('#df-3bc868be-813f-4d8d-87f1-ab3210ebb3a4 button');\n",
              "      quickchartButtonEl.style.display =\n",
              "        google.colab.kernel.accessAllowed ? 'block' : 'none';\n",
              "    })();\n",
              "  </script>\n",
              "</div>\n",
              "    </div>\n",
              "  </div>\n"
            ],
            "application/vnd.google.colaboratory.intrinsic+json": {
              "type": "dataframe",
              "variable_name": "lin_runner_stats",
              "summary": "{\n  \"name\": \"lin_runner_stats\",\n  \"rows\": 8,\n  \"fields\": [\n    {\n      \"column\": \"humidity\",\n      \"properties\": {\n        \"dtype\": \"category\",\n        \"num_unique_values\": 2,\n        \"samples\": [\n          \"high\",\n          \"medium\"\n        ],\n        \"semantic_type\": \"\",\n        \"description\": \"\"\n      }\n    },\n    {\n      \"column\": \"wind\",\n      \"properties\": {\n        \"dtype\": \"category\",\n        \"num_unique_values\": 2,\n        \"samples\": [\n          \"high\",\n          \"medium\"\n        ],\n        \"semantic_type\": \"\",\n        \"description\": \"\"\n      }\n    },\n    {\n      \"column\": \"temperature\",\n      \"properties\": {\n        \"dtype\": \"category\",\n        \"num_unique_values\": 2,\n        \"samples\": [\n          \"high\",\n          \"medium\"\n        ],\n        \"semantic_type\": \"\",\n        \"description\": \"\"\n      }\n    },\n    {\n      \"column\": \"mean finish time\",\n      \"properties\": {\n        \"dtype\": \"number\",\n        \"std\": 62.12199418636352,\n        \"min\": 12090.304066175038,\n        \"max\": 12249.046515047596,\n        \"num_unique_values\": 8,\n        \"samples\": [\n          12090.304066175038,\n          12101.574469644176\n        ],\n        \"semantic_type\": \"\",\n        \"description\": \"\"\n      }\n    },\n    {\n      \"column\": \"mean expected finish time\",\n      \"properties\": {\n        \"dtype\": \"number\",\n        \"std\": 61.21528291998471,\n        \"min\": 11924.361357356036,\n        \"max\": 12079.432907955817,\n        \"num_unique_values\": 8,\n        \"samples\": [\n          11924.361357356036,\n          11938.360595036651\n        ],\n        \"semantic_type\": \"\",\n        \"description\": \"\"\n      }\n    }\n  ]\n}"
            }
          },
          "metadata": {},
          "execution_count": 17
        }
      ]
    },
    {
      "cell_type": "code",
      "source": [
        "print(lin_runner_stats.to_latex(index=False, float_format=\"%.0f\"))"
      ],
      "metadata": {
        "colab": {
          "base_uri": "https://localhost:8080/"
        },
        "id": "Ejt6pZwo2V00",
        "outputId": "0906b5f6-7d78-45ad-c589-a8145ec5dcb7"
      },
      "execution_count": 44,
      "outputs": [
        {
          "output_type": "stream",
          "name": "stdout",
          "text": [
            "\\begin{tabular}{lllrr}\n",
            "\\toprule\n",
            "humidity & wind & temperature & mean finish time & mean expected finish time \\\\\n",
            "\\midrule\n",
            "medium & medium & medium & 12100 & 11934 \\\\\n",
            "medium & high & medium & 12090 & 11924 \\\\\n",
            "medium & medium & high & 12198 & 12034 \\\\\n",
            "medium & high & high & 12209 & 12043 \\\\\n",
            "high & medium & medium & 12143 & 11975 \\\\\n",
            "high & high & medium & 12102 & 11938 \\\\\n",
            "high & medium & high & 12249 & 12079 \\\\\n",
            "high & high & high & 12216 & 12050 \\\\\n",
            "\\bottomrule\n",
            "\\end{tabular}\n",
            "\n"
          ]
        }
      ]
    },
    {
      "cell_type": "code",
      "source": [
        "print(lin_resource_stats.sort_values(['resource', 'humidity', 'wind', 'temperature'], ascending = [True, False, False, False]).to_latex())"
      ],
      "metadata": {
        "colab": {
          "base_uri": "https://localhost:8080/"
        },
        "id": "xvxSRHSq4_p6",
        "outputId": "86a39c71-1257-44d9-bbab-02aeffe4fd9a"
      },
      "execution_count": 19,
      "outputs": [
        {
          "output_type": "stream",
          "name": "stdout",
          "text": [
            "\\begin{tabular}{lllllrrr}\n",
            "\\toprule\n",
            " & humidity & wind & temperature & resource & max queue & max median queue & average overall \\\\\n",
            "\\midrule\n",
            "0 & medium & medium & medium & meal & 17.945551 & 0.000000 & 0.676546 \\\\\n",
            "8 & medium & medium & high & meal & 15.720336 & 0.000000 & 0.781867 \\\\\n",
            "4 & medium & high & medium & meal & 13.539771 & 0.000000 & 0.544913 \\\\\n",
            "12 & medium & high & high & meal & 11.079675 & 0.000000 & 0.657496 \\\\\n",
            "16 & high & medium & medium & meal & 27.912122 & 0.000000 & 1.161118 \\\\\n",
            "24 & high & medium & high & meal & 12.953479 & 0.000000 & 0.798023 \\\\\n",
            "20 & high & high & medium & meal & 14.333784 & 0.000000 & 0.755675 \\\\\n",
            "28 & high & high & high & meal & 15.300285 & 0.000000 & 0.843992 \\\\\n",
            "1 & medium & medium & medium & medical & 161.059636 & 0.000000 & 1.425307 \\\\\n",
            "9 & medium & medium & high & medical & 181.231188 & 0.000000 & 3.315849 \\\\\n",
            "5 & medium & high & medium & medical & 191.071797 & 0.000000 & 3.059162 \\\\\n",
            "13 & medium & high & high & medical & 129.447704 & 0.000000 & 5.378482 \\\\\n",
            "17 & high & medium & medium & medical & 416.804684 & 80.951358 & 25.249765 \\\\\n",
            "25 & high & medium & high & medical & 153.627642 & 0.000000 & 3.995360 \\\\\n",
            "21 & high & high & medium & medical & 162.386682 & 0.000000 & 3.927742 \\\\\n",
            "29 & high & high & high & medical & 319.328649 & 24.609166 & 17.332563 \\\\\n",
            "2 & medium & medium & medium & toilet & 40.092755 & 2.060790 & 2.453263 \\\\\n",
            "10 & medium & medium & high & toilet & 21.841315 & 0.000000 & 1.345911 \\\\\n",
            "6 & medium & high & medium & toilet & 42.564427 & 2.316275 & 2.785009 \\\\\n",
            "14 & medium & high & high & toilet & 25.062501 & 2.127531 & 1.689117 \\\\\n",
            "18 & high & medium & medium & toilet & 20.197100 & 0.000000 & 1.492620 \\\\\n",
            "26 & high & medium & high & toilet & 28.530716 & 3.570917 & 2.903518 \\\\\n",
            "22 & high & high & medium & toilet & 19.302431 & 0.000000 & 1.328739 \\\\\n",
            "30 & high & high & high & toilet & 49.392987 & 7.216872 & 2.840634 \\\\\n",
            "3 & medium & medium & medium & water & 19.669383 & 2.297932 & 1.510053 \\\\\n",
            "11 & medium & medium & high & water & 16.502543 & 0.367781 & 1.276362 \\\\\n",
            "7 & medium & high & medium & water & 17.348217 & 0.000000 & 1.485368 \\\\\n",
            "15 & medium & high & high & water & 20.827540 & 0.055214 & 1.613987 \\\\\n",
            "19 & high & medium & medium & water & 15.016257 & 0.362603 & 1.621825 \\\\\n",
            "27 & high & medium & high & water & 22.458124 & 0.365250 & 1.641125 \\\\\n",
            "23 & high & high & medium & water & 20.494153 & 0.134204 & 1.346140 \\\\\n",
            "31 & high & high & high & water & 17.284359 & 0.234861 & 1.248177 \\\\\n",
            "\\bottomrule\n",
            "\\end{tabular}\n",
            "\n"
          ]
        }
      ]
    },
    {
      "cell_type": "code",
      "source": [
        "lin_resource_stats[lin_resource_stats['resource'] == 'water']"
      ],
      "metadata": {
        "colab": {
          "base_uri": "https://localhost:8080/",
          "height": 300
        },
        "id": "HFQyVXLPUzCu",
        "outputId": "0056f44e-776c-4866-8f80-2a98fabb01dd"
      },
      "execution_count": 20,
      "outputs": [
        {
          "output_type": "execute_result",
          "data": {
            "text/plain": [
              "   humidity    wind temperature resource  max queue  max median queue  \\\n",
              "3    medium  medium      medium    water  19.669383          2.297932   \n",
              "7    medium    high      medium    water  17.348217          0.000000   \n",
              "11   medium  medium        high    water  16.502543          0.367781   \n",
              "15   medium    high        high    water  20.827540          0.055214   \n",
              "19     high  medium      medium    water  15.016257          0.362603   \n",
              "23     high    high      medium    water  20.494153          0.134204   \n",
              "27     high  medium        high    water  22.458124          0.365250   \n",
              "31     high    high        high    water  17.284359          0.234861   \n",
              "\n",
              "    average overall  \n",
              "3          1.510053  \n",
              "7          1.485368  \n",
              "11         1.276362  \n",
              "15         1.613987  \n",
              "19         1.621825  \n",
              "23         1.346140  \n",
              "27         1.641125  \n",
              "31         1.248177  "
            ],
            "text/html": [
              "\n",
              "  <div id=\"df-4959bfe9-e9c3-4cb6-bc16-8a3c817855f7\" class=\"colab-df-container\">\n",
              "    <div>\n",
              "<style scoped>\n",
              "    .dataframe tbody tr th:only-of-type {\n",
              "        vertical-align: middle;\n",
              "    }\n",
              "\n",
              "    .dataframe tbody tr th {\n",
              "        vertical-align: top;\n",
              "    }\n",
              "\n",
              "    .dataframe thead th {\n",
              "        text-align: right;\n",
              "    }\n",
              "</style>\n",
              "<table border=\"1\" class=\"dataframe\">\n",
              "  <thead>\n",
              "    <tr style=\"text-align: right;\">\n",
              "      <th></th>\n",
              "      <th>humidity</th>\n",
              "      <th>wind</th>\n",
              "      <th>temperature</th>\n",
              "      <th>resource</th>\n",
              "      <th>max queue</th>\n",
              "      <th>max median queue</th>\n",
              "      <th>average overall</th>\n",
              "    </tr>\n",
              "  </thead>\n",
              "  <tbody>\n",
              "    <tr>\n",
              "      <th>3</th>\n",
              "      <td>medium</td>\n",
              "      <td>medium</td>\n",
              "      <td>medium</td>\n",
              "      <td>water</td>\n",
              "      <td>19.669383</td>\n",
              "      <td>2.297932</td>\n",
              "      <td>1.510053</td>\n",
              "    </tr>\n",
              "    <tr>\n",
              "      <th>7</th>\n",
              "      <td>medium</td>\n",
              "      <td>high</td>\n",
              "      <td>medium</td>\n",
              "      <td>water</td>\n",
              "      <td>17.348217</td>\n",
              "      <td>0.000000</td>\n",
              "      <td>1.485368</td>\n",
              "    </tr>\n",
              "    <tr>\n",
              "      <th>11</th>\n",
              "      <td>medium</td>\n",
              "      <td>medium</td>\n",
              "      <td>high</td>\n",
              "      <td>water</td>\n",
              "      <td>16.502543</td>\n",
              "      <td>0.367781</td>\n",
              "      <td>1.276362</td>\n",
              "    </tr>\n",
              "    <tr>\n",
              "      <th>15</th>\n",
              "      <td>medium</td>\n",
              "      <td>high</td>\n",
              "      <td>high</td>\n",
              "      <td>water</td>\n",
              "      <td>20.827540</td>\n",
              "      <td>0.055214</td>\n",
              "      <td>1.613987</td>\n",
              "    </tr>\n",
              "    <tr>\n",
              "      <th>19</th>\n",
              "      <td>high</td>\n",
              "      <td>medium</td>\n",
              "      <td>medium</td>\n",
              "      <td>water</td>\n",
              "      <td>15.016257</td>\n",
              "      <td>0.362603</td>\n",
              "      <td>1.621825</td>\n",
              "    </tr>\n",
              "    <tr>\n",
              "      <th>23</th>\n",
              "      <td>high</td>\n",
              "      <td>high</td>\n",
              "      <td>medium</td>\n",
              "      <td>water</td>\n",
              "      <td>20.494153</td>\n",
              "      <td>0.134204</td>\n",
              "      <td>1.346140</td>\n",
              "    </tr>\n",
              "    <tr>\n",
              "      <th>27</th>\n",
              "      <td>high</td>\n",
              "      <td>medium</td>\n",
              "      <td>high</td>\n",
              "      <td>water</td>\n",
              "      <td>22.458124</td>\n",
              "      <td>0.365250</td>\n",
              "      <td>1.641125</td>\n",
              "    </tr>\n",
              "    <tr>\n",
              "      <th>31</th>\n",
              "      <td>high</td>\n",
              "      <td>high</td>\n",
              "      <td>high</td>\n",
              "      <td>water</td>\n",
              "      <td>17.284359</td>\n",
              "      <td>0.234861</td>\n",
              "      <td>1.248177</td>\n",
              "    </tr>\n",
              "  </tbody>\n",
              "</table>\n",
              "</div>\n",
              "    <div class=\"colab-df-buttons\">\n",
              "\n",
              "  <div class=\"colab-df-container\">\n",
              "    <button class=\"colab-df-convert\" onclick=\"convertToInteractive('df-4959bfe9-e9c3-4cb6-bc16-8a3c817855f7')\"\n",
              "            title=\"Convert this dataframe to an interactive table.\"\n",
              "            style=\"display:none;\">\n",
              "\n",
              "  <svg xmlns=\"http://www.w3.org/2000/svg\" height=\"24px\" viewBox=\"0 -960 960 960\">\n",
              "    <path d=\"M120-120v-720h720v720H120Zm60-500h600v-160H180v160Zm220 220h160v-160H400v160Zm0 220h160v-160H400v160ZM180-400h160v-160H180v160Zm440 0h160v-160H620v160ZM180-180h160v-160H180v160Zm440 0h160v-160H620v160Z\"/>\n",
              "  </svg>\n",
              "    </button>\n",
              "\n",
              "  <style>\n",
              "    .colab-df-container {\n",
              "      display:flex;\n",
              "      gap: 12px;\n",
              "    }\n",
              "\n",
              "    .colab-df-convert {\n",
              "      background-color: #E8F0FE;\n",
              "      border: none;\n",
              "      border-radius: 50%;\n",
              "      cursor: pointer;\n",
              "      display: none;\n",
              "      fill: #1967D2;\n",
              "      height: 32px;\n",
              "      padding: 0 0 0 0;\n",
              "      width: 32px;\n",
              "    }\n",
              "\n",
              "    .colab-df-convert:hover {\n",
              "      background-color: #E2EBFA;\n",
              "      box-shadow: 0px 1px 2px rgba(60, 64, 67, 0.3), 0px 1px 3px 1px rgba(60, 64, 67, 0.15);\n",
              "      fill: #174EA6;\n",
              "    }\n",
              "\n",
              "    .colab-df-buttons div {\n",
              "      margin-bottom: 4px;\n",
              "    }\n",
              "\n",
              "    [theme=dark] .colab-df-convert {\n",
              "      background-color: #3B4455;\n",
              "      fill: #D2E3FC;\n",
              "    }\n",
              "\n",
              "    [theme=dark] .colab-df-convert:hover {\n",
              "      background-color: #434B5C;\n",
              "      box-shadow: 0px 1px 3px 1px rgba(0, 0, 0, 0.15);\n",
              "      filter: drop-shadow(0px 1px 2px rgba(0, 0, 0, 0.3));\n",
              "      fill: #FFFFFF;\n",
              "    }\n",
              "  </style>\n",
              "\n",
              "    <script>\n",
              "      const buttonEl =\n",
              "        document.querySelector('#df-4959bfe9-e9c3-4cb6-bc16-8a3c817855f7 button.colab-df-convert');\n",
              "      buttonEl.style.display =\n",
              "        google.colab.kernel.accessAllowed ? 'block' : 'none';\n",
              "\n",
              "      async function convertToInteractive(key) {\n",
              "        const element = document.querySelector('#df-4959bfe9-e9c3-4cb6-bc16-8a3c817855f7');\n",
              "        const dataTable =\n",
              "          await google.colab.kernel.invokeFunction('convertToInteractive',\n",
              "                                                    [key], {});\n",
              "        if (!dataTable) return;\n",
              "\n",
              "        const docLinkHtml = 'Like what you see? Visit the ' +\n",
              "          '<a target=\"_blank\" href=https://colab.research.google.com/notebooks/data_table.ipynb>data table notebook</a>'\n",
              "          + ' to learn more about interactive tables.';\n",
              "        element.innerHTML = '';\n",
              "        dataTable['output_type'] = 'display_data';\n",
              "        await google.colab.output.renderOutput(dataTable, element);\n",
              "        const docLink = document.createElement('div');\n",
              "        docLink.innerHTML = docLinkHtml;\n",
              "        element.appendChild(docLink);\n",
              "      }\n",
              "    </script>\n",
              "  </div>\n",
              "\n",
              "\n",
              "<div id=\"df-831cf513-9456-4aaa-9998-f26febf090c7\">\n",
              "  <button class=\"colab-df-quickchart\" onclick=\"quickchart('df-831cf513-9456-4aaa-9998-f26febf090c7')\"\n",
              "            title=\"Suggest charts\"\n",
              "            style=\"display:none;\">\n",
              "\n",
              "<svg xmlns=\"http://www.w3.org/2000/svg\" height=\"24px\"viewBox=\"0 0 24 24\"\n",
              "     width=\"24px\">\n",
              "    <g>\n",
              "        <path d=\"M19 3H5c-1.1 0-2 .9-2 2v14c0 1.1.9 2 2 2h14c1.1 0 2-.9 2-2V5c0-1.1-.9-2-2-2zM9 17H7v-7h2v7zm4 0h-2V7h2v10zm4 0h-2v-4h2v4z\"/>\n",
              "    </g>\n",
              "</svg>\n",
              "  </button>\n",
              "\n",
              "<style>\n",
              "  .colab-df-quickchart {\n",
              "      --bg-color: #E8F0FE;\n",
              "      --fill-color: #1967D2;\n",
              "      --hover-bg-color: #E2EBFA;\n",
              "      --hover-fill-color: #174EA6;\n",
              "      --disabled-fill-color: #AAA;\n",
              "      --disabled-bg-color: #DDD;\n",
              "  }\n",
              "\n",
              "  [theme=dark] .colab-df-quickchart {\n",
              "      --bg-color: #3B4455;\n",
              "      --fill-color: #D2E3FC;\n",
              "      --hover-bg-color: #434B5C;\n",
              "      --hover-fill-color: #FFFFFF;\n",
              "      --disabled-bg-color: #3B4455;\n",
              "      --disabled-fill-color: #666;\n",
              "  }\n",
              "\n",
              "  .colab-df-quickchart {\n",
              "    background-color: var(--bg-color);\n",
              "    border: none;\n",
              "    border-radius: 50%;\n",
              "    cursor: pointer;\n",
              "    display: none;\n",
              "    fill: var(--fill-color);\n",
              "    height: 32px;\n",
              "    padding: 0;\n",
              "    width: 32px;\n",
              "  }\n",
              "\n",
              "  .colab-df-quickchart:hover {\n",
              "    background-color: var(--hover-bg-color);\n",
              "    box-shadow: 0 1px 2px rgba(60, 64, 67, 0.3), 0 1px 3px 1px rgba(60, 64, 67, 0.15);\n",
              "    fill: var(--button-hover-fill-color);\n",
              "  }\n",
              "\n",
              "  .colab-df-quickchart-complete:disabled,\n",
              "  .colab-df-quickchart-complete:disabled:hover {\n",
              "    background-color: var(--disabled-bg-color);\n",
              "    fill: var(--disabled-fill-color);\n",
              "    box-shadow: none;\n",
              "  }\n",
              "\n",
              "  .colab-df-spinner {\n",
              "    border: 2px solid var(--fill-color);\n",
              "    border-color: transparent;\n",
              "    border-bottom-color: var(--fill-color);\n",
              "    animation:\n",
              "      spin 1s steps(1) infinite;\n",
              "  }\n",
              "\n",
              "  @keyframes spin {\n",
              "    0% {\n",
              "      border-color: transparent;\n",
              "      border-bottom-color: var(--fill-color);\n",
              "      border-left-color: var(--fill-color);\n",
              "    }\n",
              "    20% {\n",
              "      border-color: transparent;\n",
              "      border-left-color: var(--fill-color);\n",
              "      border-top-color: var(--fill-color);\n",
              "    }\n",
              "    30% {\n",
              "      border-color: transparent;\n",
              "      border-left-color: var(--fill-color);\n",
              "      border-top-color: var(--fill-color);\n",
              "      border-right-color: var(--fill-color);\n",
              "    }\n",
              "    40% {\n",
              "      border-color: transparent;\n",
              "      border-right-color: var(--fill-color);\n",
              "      border-top-color: var(--fill-color);\n",
              "    }\n",
              "    60% {\n",
              "      border-color: transparent;\n",
              "      border-right-color: var(--fill-color);\n",
              "    }\n",
              "    80% {\n",
              "      border-color: transparent;\n",
              "      border-right-color: var(--fill-color);\n",
              "      border-bottom-color: var(--fill-color);\n",
              "    }\n",
              "    90% {\n",
              "      border-color: transparent;\n",
              "      border-bottom-color: var(--fill-color);\n",
              "    }\n",
              "  }\n",
              "</style>\n",
              "\n",
              "  <script>\n",
              "    async function quickchart(key) {\n",
              "      const quickchartButtonEl =\n",
              "        document.querySelector('#' + key + ' button');\n",
              "      quickchartButtonEl.disabled = true;  // To prevent multiple clicks.\n",
              "      quickchartButtonEl.classList.add('colab-df-spinner');\n",
              "      try {\n",
              "        const charts = await google.colab.kernel.invokeFunction(\n",
              "            'suggestCharts', [key], {});\n",
              "      } catch (error) {\n",
              "        console.error('Error during call to suggestCharts:', error);\n",
              "      }\n",
              "      quickchartButtonEl.classList.remove('colab-df-spinner');\n",
              "      quickchartButtonEl.classList.add('colab-df-quickchart-complete');\n",
              "    }\n",
              "    (() => {\n",
              "      let quickchartButtonEl =\n",
              "        document.querySelector('#df-831cf513-9456-4aaa-9998-f26febf090c7 button');\n",
              "      quickchartButtonEl.style.display =\n",
              "        google.colab.kernel.accessAllowed ? 'block' : 'none';\n",
              "    })();\n",
              "  </script>\n",
              "</div>\n",
              "    </div>\n",
              "  </div>\n"
            ],
            "application/vnd.google.colaboratory.intrinsic+json": {
              "type": "dataframe",
              "summary": "{\n  \"name\": \"lin_resource_stats[lin_resource_stats['resource'] == 'water']\",\n  \"rows\": 8,\n  \"fields\": [\n    {\n      \"column\": \"humidity\",\n      \"properties\": {\n        \"dtype\": \"category\",\n        \"num_unique_values\": 2,\n        \"samples\": [\n          \"high\",\n          \"medium\"\n        ],\n        \"semantic_type\": \"\",\n        \"description\": \"\"\n      }\n    },\n    {\n      \"column\": \"wind\",\n      \"properties\": {\n        \"dtype\": \"category\",\n        \"num_unique_values\": 2,\n        \"samples\": [\n          \"high\",\n          \"medium\"\n        ],\n        \"semantic_type\": \"\",\n        \"description\": \"\"\n      }\n    },\n    {\n      \"column\": \"temperature\",\n      \"properties\": {\n        \"dtype\": \"category\",\n        \"num_unique_values\": 2,\n        \"samples\": [\n          \"high\",\n          \"medium\"\n        ],\n        \"semantic_type\": \"\",\n        \"description\": \"\"\n      }\n    },\n    {\n      \"column\": \"resource\",\n      \"properties\": {\n        \"dtype\": \"category\",\n        \"num_unique_values\": 1,\n        \"samples\": [\n          \"water\"\n        ],\n        \"semantic_type\": \"\",\n        \"description\": \"\"\n      }\n    },\n    {\n      \"column\": \"max queue\",\n      \"properties\": {\n        \"dtype\": \"number\",\n        \"std\": 2.536554104316264,\n        \"min\": 15.016256736513242,\n        \"max\": 22.458123947881177,\n        \"num_unique_values\": 8,\n        \"samples\": [\n          17.348216690383197\n        ],\n        \"semantic_type\": \"\",\n        \"description\": \"\"\n      }\n    },\n    {\n      \"column\": \"max median queue\",\n      \"properties\": {\n        \"dtype\": \"number\",\n        \"std\": 0.749749569511718,\n        \"min\": 0.0,\n        \"max\": 2.297932310244505,\n        \"num_unique_values\": 8,\n        \"samples\": [\n          0.0\n        ],\n        \"semantic_type\": \"\",\n        \"description\": \"\"\n      }\n    },\n    {\n      \"column\": \"average overall\",\n      \"properties\": {\n        \"dtype\": \"number\",\n        \"std\": 0.15897607018311702,\n        \"min\": 1.2481768744209916,\n        \"max\": 1.6411253243114283,\n        \"num_unique_values\": 8,\n        \"samples\": [\n          1.485367910267596\n        ],\n        \"semantic_type\": \"\",\n        \"description\": \"\"\n      }\n    }\n  ]\n}"
            }
          },
          "metadata": {},
          "execution_count": 20
        }
      ]
    },
    {
      "cell_type": "code",
      "source": [
        "lin_resource_stats[lin_resource_stats['resource'] == 'meal']"
      ],
      "metadata": {
        "colab": {
          "base_uri": "https://localhost:8080/",
          "height": 300
        },
        "id": "J5NmvQXI_jHF",
        "outputId": "0fe0e4fe-8e6f-45fe-8aa1-8527229684f7"
      },
      "execution_count": 21,
      "outputs": [
        {
          "output_type": "execute_result",
          "data": {
            "text/plain": [
              "   humidity    wind temperature resource  max queue  max median queue  \\\n",
              "0    medium  medium      medium     meal  17.945551               0.0   \n",
              "4    medium    high      medium     meal  13.539771               0.0   \n",
              "8    medium  medium        high     meal  15.720336               0.0   \n",
              "12   medium    high        high     meal  11.079675               0.0   \n",
              "16     high  medium      medium     meal  27.912122               0.0   \n",
              "20     high    high      medium     meal  14.333784               0.0   \n",
              "24     high  medium        high     meal  12.953479               0.0   \n",
              "28     high    high        high     meal  15.300285               0.0   \n",
              "\n",
              "    average overall  \n",
              "0          0.676546  \n",
              "4          0.544913  \n",
              "8          0.781867  \n",
              "12         0.657496  \n",
              "16         1.161118  \n",
              "20         0.755675  \n",
              "24         0.798023  \n",
              "28         0.843992  "
            ],
            "text/html": [
              "\n",
              "  <div id=\"df-6c380fd8-c300-4471-991c-60d32a7e0e47\" class=\"colab-df-container\">\n",
              "    <div>\n",
              "<style scoped>\n",
              "    .dataframe tbody tr th:only-of-type {\n",
              "        vertical-align: middle;\n",
              "    }\n",
              "\n",
              "    .dataframe tbody tr th {\n",
              "        vertical-align: top;\n",
              "    }\n",
              "\n",
              "    .dataframe thead th {\n",
              "        text-align: right;\n",
              "    }\n",
              "</style>\n",
              "<table border=\"1\" class=\"dataframe\">\n",
              "  <thead>\n",
              "    <tr style=\"text-align: right;\">\n",
              "      <th></th>\n",
              "      <th>humidity</th>\n",
              "      <th>wind</th>\n",
              "      <th>temperature</th>\n",
              "      <th>resource</th>\n",
              "      <th>max queue</th>\n",
              "      <th>max median queue</th>\n",
              "      <th>average overall</th>\n",
              "    </tr>\n",
              "  </thead>\n",
              "  <tbody>\n",
              "    <tr>\n",
              "      <th>0</th>\n",
              "      <td>medium</td>\n",
              "      <td>medium</td>\n",
              "      <td>medium</td>\n",
              "      <td>meal</td>\n",
              "      <td>17.945551</td>\n",
              "      <td>0.0</td>\n",
              "      <td>0.676546</td>\n",
              "    </tr>\n",
              "    <tr>\n",
              "      <th>4</th>\n",
              "      <td>medium</td>\n",
              "      <td>high</td>\n",
              "      <td>medium</td>\n",
              "      <td>meal</td>\n",
              "      <td>13.539771</td>\n",
              "      <td>0.0</td>\n",
              "      <td>0.544913</td>\n",
              "    </tr>\n",
              "    <tr>\n",
              "      <th>8</th>\n",
              "      <td>medium</td>\n",
              "      <td>medium</td>\n",
              "      <td>high</td>\n",
              "      <td>meal</td>\n",
              "      <td>15.720336</td>\n",
              "      <td>0.0</td>\n",
              "      <td>0.781867</td>\n",
              "    </tr>\n",
              "    <tr>\n",
              "      <th>12</th>\n",
              "      <td>medium</td>\n",
              "      <td>high</td>\n",
              "      <td>high</td>\n",
              "      <td>meal</td>\n",
              "      <td>11.079675</td>\n",
              "      <td>0.0</td>\n",
              "      <td>0.657496</td>\n",
              "    </tr>\n",
              "    <tr>\n",
              "      <th>16</th>\n",
              "      <td>high</td>\n",
              "      <td>medium</td>\n",
              "      <td>medium</td>\n",
              "      <td>meal</td>\n",
              "      <td>27.912122</td>\n",
              "      <td>0.0</td>\n",
              "      <td>1.161118</td>\n",
              "    </tr>\n",
              "    <tr>\n",
              "      <th>20</th>\n",
              "      <td>high</td>\n",
              "      <td>high</td>\n",
              "      <td>medium</td>\n",
              "      <td>meal</td>\n",
              "      <td>14.333784</td>\n",
              "      <td>0.0</td>\n",
              "      <td>0.755675</td>\n",
              "    </tr>\n",
              "    <tr>\n",
              "      <th>24</th>\n",
              "      <td>high</td>\n",
              "      <td>medium</td>\n",
              "      <td>high</td>\n",
              "      <td>meal</td>\n",
              "      <td>12.953479</td>\n",
              "      <td>0.0</td>\n",
              "      <td>0.798023</td>\n",
              "    </tr>\n",
              "    <tr>\n",
              "      <th>28</th>\n",
              "      <td>high</td>\n",
              "      <td>high</td>\n",
              "      <td>high</td>\n",
              "      <td>meal</td>\n",
              "      <td>15.300285</td>\n",
              "      <td>0.0</td>\n",
              "      <td>0.843992</td>\n",
              "    </tr>\n",
              "  </tbody>\n",
              "</table>\n",
              "</div>\n",
              "    <div class=\"colab-df-buttons\">\n",
              "\n",
              "  <div class=\"colab-df-container\">\n",
              "    <button class=\"colab-df-convert\" onclick=\"convertToInteractive('df-6c380fd8-c300-4471-991c-60d32a7e0e47')\"\n",
              "            title=\"Convert this dataframe to an interactive table.\"\n",
              "            style=\"display:none;\">\n",
              "\n",
              "  <svg xmlns=\"http://www.w3.org/2000/svg\" height=\"24px\" viewBox=\"0 -960 960 960\">\n",
              "    <path d=\"M120-120v-720h720v720H120Zm60-500h600v-160H180v160Zm220 220h160v-160H400v160Zm0 220h160v-160H400v160ZM180-400h160v-160H180v160Zm440 0h160v-160H620v160ZM180-180h160v-160H180v160Zm440 0h160v-160H620v160Z\"/>\n",
              "  </svg>\n",
              "    </button>\n",
              "\n",
              "  <style>\n",
              "    .colab-df-container {\n",
              "      display:flex;\n",
              "      gap: 12px;\n",
              "    }\n",
              "\n",
              "    .colab-df-convert {\n",
              "      background-color: #E8F0FE;\n",
              "      border: none;\n",
              "      border-radius: 50%;\n",
              "      cursor: pointer;\n",
              "      display: none;\n",
              "      fill: #1967D2;\n",
              "      height: 32px;\n",
              "      padding: 0 0 0 0;\n",
              "      width: 32px;\n",
              "    }\n",
              "\n",
              "    .colab-df-convert:hover {\n",
              "      background-color: #E2EBFA;\n",
              "      box-shadow: 0px 1px 2px rgba(60, 64, 67, 0.3), 0px 1px 3px 1px rgba(60, 64, 67, 0.15);\n",
              "      fill: #174EA6;\n",
              "    }\n",
              "\n",
              "    .colab-df-buttons div {\n",
              "      margin-bottom: 4px;\n",
              "    }\n",
              "\n",
              "    [theme=dark] .colab-df-convert {\n",
              "      background-color: #3B4455;\n",
              "      fill: #D2E3FC;\n",
              "    }\n",
              "\n",
              "    [theme=dark] .colab-df-convert:hover {\n",
              "      background-color: #434B5C;\n",
              "      box-shadow: 0px 1px 3px 1px rgba(0, 0, 0, 0.15);\n",
              "      filter: drop-shadow(0px 1px 2px rgba(0, 0, 0, 0.3));\n",
              "      fill: #FFFFFF;\n",
              "    }\n",
              "  </style>\n",
              "\n",
              "    <script>\n",
              "      const buttonEl =\n",
              "        document.querySelector('#df-6c380fd8-c300-4471-991c-60d32a7e0e47 button.colab-df-convert');\n",
              "      buttonEl.style.display =\n",
              "        google.colab.kernel.accessAllowed ? 'block' : 'none';\n",
              "\n",
              "      async function convertToInteractive(key) {\n",
              "        const element = document.querySelector('#df-6c380fd8-c300-4471-991c-60d32a7e0e47');\n",
              "        const dataTable =\n",
              "          await google.colab.kernel.invokeFunction('convertToInteractive',\n",
              "                                                    [key], {});\n",
              "        if (!dataTable) return;\n",
              "\n",
              "        const docLinkHtml = 'Like what you see? Visit the ' +\n",
              "          '<a target=\"_blank\" href=https://colab.research.google.com/notebooks/data_table.ipynb>data table notebook</a>'\n",
              "          + ' to learn more about interactive tables.';\n",
              "        element.innerHTML = '';\n",
              "        dataTable['output_type'] = 'display_data';\n",
              "        await google.colab.output.renderOutput(dataTable, element);\n",
              "        const docLink = document.createElement('div');\n",
              "        docLink.innerHTML = docLinkHtml;\n",
              "        element.appendChild(docLink);\n",
              "      }\n",
              "    </script>\n",
              "  </div>\n",
              "\n",
              "\n",
              "<div id=\"df-fb8d9fd3-6d42-462b-a588-6a342f57a348\">\n",
              "  <button class=\"colab-df-quickchart\" onclick=\"quickchart('df-fb8d9fd3-6d42-462b-a588-6a342f57a348')\"\n",
              "            title=\"Suggest charts\"\n",
              "            style=\"display:none;\">\n",
              "\n",
              "<svg xmlns=\"http://www.w3.org/2000/svg\" height=\"24px\"viewBox=\"0 0 24 24\"\n",
              "     width=\"24px\">\n",
              "    <g>\n",
              "        <path d=\"M19 3H5c-1.1 0-2 .9-2 2v14c0 1.1.9 2 2 2h14c1.1 0 2-.9 2-2V5c0-1.1-.9-2-2-2zM9 17H7v-7h2v7zm4 0h-2V7h2v10zm4 0h-2v-4h2v4z\"/>\n",
              "    </g>\n",
              "</svg>\n",
              "  </button>\n",
              "\n",
              "<style>\n",
              "  .colab-df-quickchart {\n",
              "      --bg-color: #E8F0FE;\n",
              "      --fill-color: #1967D2;\n",
              "      --hover-bg-color: #E2EBFA;\n",
              "      --hover-fill-color: #174EA6;\n",
              "      --disabled-fill-color: #AAA;\n",
              "      --disabled-bg-color: #DDD;\n",
              "  }\n",
              "\n",
              "  [theme=dark] .colab-df-quickchart {\n",
              "      --bg-color: #3B4455;\n",
              "      --fill-color: #D2E3FC;\n",
              "      --hover-bg-color: #434B5C;\n",
              "      --hover-fill-color: #FFFFFF;\n",
              "      --disabled-bg-color: #3B4455;\n",
              "      --disabled-fill-color: #666;\n",
              "  }\n",
              "\n",
              "  .colab-df-quickchart {\n",
              "    background-color: var(--bg-color);\n",
              "    border: none;\n",
              "    border-radius: 50%;\n",
              "    cursor: pointer;\n",
              "    display: none;\n",
              "    fill: var(--fill-color);\n",
              "    height: 32px;\n",
              "    padding: 0;\n",
              "    width: 32px;\n",
              "  }\n",
              "\n",
              "  .colab-df-quickchart:hover {\n",
              "    background-color: var(--hover-bg-color);\n",
              "    box-shadow: 0 1px 2px rgba(60, 64, 67, 0.3), 0 1px 3px 1px rgba(60, 64, 67, 0.15);\n",
              "    fill: var(--button-hover-fill-color);\n",
              "  }\n",
              "\n",
              "  .colab-df-quickchart-complete:disabled,\n",
              "  .colab-df-quickchart-complete:disabled:hover {\n",
              "    background-color: var(--disabled-bg-color);\n",
              "    fill: var(--disabled-fill-color);\n",
              "    box-shadow: none;\n",
              "  }\n",
              "\n",
              "  .colab-df-spinner {\n",
              "    border: 2px solid var(--fill-color);\n",
              "    border-color: transparent;\n",
              "    border-bottom-color: var(--fill-color);\n",
              "    animation:\n",
              "      spin 1s steps(1) infinite;\n",
              "  }\n",
              "\n",
              "  @keyframes spin {\n",
              "    0% {\n",
              "      border-color: transparent;\n",
              "      border-bottom-color: var(--fill-color);\n",
              "      border-left-color: var(--fill-color);\n",
              "    }\n",
              "    20% {\n",
              "      border-color: transparent;\n",
              "      border-left-color: var(--fill-color);\n",
              "      border-top-color: var(--fill-color);\n",
              "    }\n",
              "    30% {\n",
              "      border-color: transparent;\n",
              "      border-left-color: var(--fill-color);\n",
              "      border-top-color: var(--fill-color);\n",
              "      border-right-color: var(--fill-color);\n",
              "    }\n",
              "    40% {\n",
              "      border-color: transparent;\n",
              "      border-right-color: var(--fill-color);\n",
              "      border-top-color: var(--fill-color);\n",
              "    }\n",
              "    60% {\n",
              "      border-color: transparent;\n",
              "      border-right-color: var(--fill-color);\n",
              "    }\n",
              "    80% {\n",
              "      border-color: transparent;\n",
              "      border-right-color: var(--fill-color);\n",
              "      border-bottom-color: var(--fill-color);\n",
              "    }\n",
              "    90% {\n",
              "      border-color: transparent;\n",
              "      border-bottom-color: var(--fill-color);\n",
              "    }\n",
              "  }\n",
              "</style>\n",
              "\n",
              "  <script>\n",
              "    async function quickchart(key) {\n",
              "      const quickchartButtonEl =\n",
              "        document.querySelector('#' + key + ' button');\n",
              "      quickchartButtonEl.disabled = true;  // To prevent multiple clicks.\n",
              "      quickchartButtonEl.classList.add('colab-df-spinner');\n",
              "      try {\n",
              "        const charts = await google.colab.kernel.invokeFunction(\n",
              "            'suggestCharts', [key], {});\n",
              "      } catch (error) {\n",
              "        console.error('Error during call to suggestCharts:', error);\n",
              "      }\n",
              "      quickchartButtonEl.classList.remove('colab-df-spinner');\n",
              "      quickchartButtonEl.classList.add('colab-df-quickchart-complete');\n",
              "    }\n",
              "    (() => {\n",
              "      let quickchartButtonEl =\n",
              "        document.querySelector('#df-fb8d9fd3-6d42-462b-a588-6a342f57a348 button');\n",
              "      quickchartButtonEl.style.display =\n",
              "        google.colab.kernel.accessAllowed ? 'block' : 'none';\n",
              "    })();\n",
              "  </script>\n",
              "</div>\n",
              "    </div>\n",
              "  </div>\n"
            ],
            "application/vnd.google.colaboratory.intrinsic+json": {
              "type": "dataframe",
              "summary": "{\n  \"name\": \"lin_resource_stats[lin_resource_stats['resource'] == 'meal']\",\n  \"rows\": 8,\n  \"fields\": [\n    {\n      \"column\": \"humidity\",\n      \"properties\": {\n        \"dtype\": \"category\",\n        \"num_unique_values\": 2,\n        \"samples\": [\n          \"high\",\n          \"medium\"\n        ],\n        \"semantic_type\": \"\",\n        \"description\": \"\"\n      }\n    },\n    {\n      \"column\": \"wind\",\n      \"properties\": {\n        \"dtype\": \"category\",\n        \"num_unique_values\": 2,\n        \"samples\": [\n          \"high\",\n          \"medium\"\n        ],\n        \"semantic_type\": \"\",\n        \"description\": \"\"\n      }\n    },\n    {\n      \"column\": \"temperature\",\n      \"properties\": {\n        \"dtype\": \"category\",\n        \"num_unique_values\": 2,\n        \"samples\": [\n          \"high\",\n          \"medium\"\n        ],\n        \"semantic_type\": \"\",\n        \"description\": \"\"\n      }\n    },\n    {\n      \"column\": \"resource\",\n      \"properties\": {\n        \"dtype\": \"category\",\n        \"num_unique_values\": 1,\n        \"samples\": [\n          \"meal\"\n        ],\n        \"semantic_type\": \"\",\n        \"description\": \"\"\n      }\n    },\n    {\n      \"column\": \"max queue\",\n      \"properties\": {\n        \"dtype\": \"number\",\n        \"std\": 5.189198986914378,\n        \"min\": 11.07967454046775,\n        \"max\": 27.912122048686797,\n        \"num_unique_values\": 8,\n        \"samples\": [\n          13.539770561377736\n        ],\n        \"semantic_type\": \"\",\n        \"description\": \"\"\n      }\n    },\n    {\n      \"column\": \"max median queue\",\n      \"properties\": {\n        \"dtype\": \"number\",\n        \"std\": 0.0,\n        \"min\": 0.0,\n        \"max\": 0.0,\n        \"num_unique_values\": 1,\n        \"samples\": [\n          0.0\n        ],\n        \"semantic_type\": \"\",\n        \"description\": \"\"\n      }\n    },\n    {\n      \"column\": \"average overall\",\n      \"properties\": {\n        \"dtype\": \"number\",\n        \"std\": 0.18173386343649842,\n        \"min\": 0.5449125204554202,\n        \"max\": 1.1611184595569166,\n        \"num_unique_values\": 8,\n        \"samples\": [\n          0.5449125204554202\n        ],\n        \"semantic_type\": \"\",\n        \"description\": \"\"\n      }\n    }\n  ]\n}"
            }
          },
          "metadata": {},
          "execution_count": 21
        }
      ]
    },
    {
      "cell_type": "code",
      "source": [
        "lin_resource_stats[lin_resource_stats['resource'] == 'toilet']"
      ],
      "metadata": {
        "colab": {
          "base_uri": "https://localhost:8080/",
          "height": 300
        },
        "id": "CX6IClb3_jbC",
        "outputId": "003dfbfb-26c2-4d48-f847-b982ce9be986"
      },
      "execution_count": 22,
      "outputs": [
        {
          "output_type": "execute_result",
          "data": {
            "text/plain": [
              "   humidity    wind temperature resource  max queue  max median queue  \\\n",
              "2    medium  medium      medium   toilet  40.092755          2.060790   \n",
              "6    medium    high      medium   toilet  42.564427          2.316275   \n",
              "10   medium  medium        high   toilet  21.841315          0.000000   \n",
              "14   medium    high        high   toilet  25.062501          2.127531   \n",
              "18     high  medium      medium   toilet  20.197100          0.000000   \n",
              "22     high    high      medium   toilet  19.302431          0.000000   \n",
              "26     high  medium        high   toilet  28.530716          3.570917   \n",
              "30     high    high        high   toilet  49.392987          7.216872   \n",
              "\n",
              "    average overall  \n",
              "2          2.453263  \n",
              "6          2.785009  \n",
              "10         1.345911  \n",
              "14         1.689117  \n",
              "18         1.492620  \n",
              "22         1.328739  \n",
              "26         2.903518  \n",
              "30         2.840634  "
            ],
            "text/html": [
              "\n",
              "  <div id=\"df-8416fa73-0e95-40f6-997c-43735fd00ecf\" class=\"colab-df-container\">\n",
              "    <div>\n",
              "<style scoped>\n",
              "    .dataframe tbody tr th:only-of-type {\n",
              "        vertical-align: middle;\n",
              "    }\n",
              "\n",
              "    .dataframe tbody tr th {\n",
              "        vertical-align: top;\n",
              "    }\n",
              "\n",
              "    .dataframe thead th {\n",
              "        text-align: right;\n",
              "    }\n",
              "</style>\n",
              "<table border=\"1\" class=\"dataframe\">\n",
              "  <thead>\n",
              "    <tr style=\"text-align: right;\">\n",
              "      <th></th>\n",
              "      <th>humidity</th>\n",
              "      <th>wind</th>\n",
              "      <th>temperature</th>\n",
              "      <th>resource</th>\n",
              "      <th>max queue</th>\n",
              "      <th>max median queue</th>\n",
              "      <th>average overall</th>\n",
              "    </tr>\n",
              "  </thead>\n",
              "  <tbody>\n",
              "    <tr>\n",
              "      <th>2</th>\n",
              "      <td>medium</td>\n",
              "      <td>medium</td>\n",
              "      <td>medium</td>\n",
              "      <td>toilet</td>\n",
              "      <td>40.092755</td>\n",
              "      <td>2.060790</td>\n",
              "      <td>2.453263</td>\n",
              "    </tr>\n",
              "    <tr>\n",
              "      <th>6</th>\n",
              "      <td>medium</td>\n",
              "      <td>high</td>\n",
              "      <td>medium</td>\n",
              "      <td>toilet</td>\n",
              "      <td>42.564427</td>\n",
              "      <td>2.316275</td>\n",
              "      <td>2.785009</td>\n",
              "    </tr>\n",
              "    <tr>\n",
              "      <th>10</th>\n",
              "      <td>medium</td>\n",
              "      <td>medium</td>\n",
              "      <td>high</td>\n",
              "      <td>toilet</td>\n",
              "      <td>21.841315</td>\n",
              "      <td>0.000000</td>\n",
              "      <td>1.345911</td>\n",
              "    </tr>\n",
              "    <tr>\n",
              "      <th>14</th>\n",
              "      <td>medium</td>\n",
              "      <td>high</td>\n",
              "      <td>high</td>\n",
              "      <td>toilet</td>\n",
              "      <td>25.062501</td>\n",
              "      <td>2.127531</td>\n",
              "      <td>1.689117</td>\n",
              "    </tr>\n",
              "    <tr>\n",
              "      <th>18</th>\n",
              "      <td>high</td>\n",
              "      <td>medium</td>\n",
              "      <td>medium</td>\n",
              "      <td>toilet</td>\n",
              "      <td>20.197100</td>\n",
              "      <td>0.000000</td>\n",
              "      <td>1.492620</td>\n",
              "    </tr>\n",
              "    <tr>\n",
              "      <th>22</th>\n",
              "      <td>high</td>\n",
              "      <td>high</td>\n",
              "      <td>medium</td>\n",
              "      <td>toilet</td>\n",
              "      <td>19.302431</td>\n",
              "      <td>0.000000</td>\n",
              "      <td>1.328739</td>\n",
              "    </tr>\n",
              "    <tr>\n",
              "      <th>26</th>\n",
              "      <td>high</td>\n",
              "      <td>medium</td>\n",
              "      <td>high</td>\n",
              "      <td>toilet</td>\n",
              "      <td>28.530716</td>\n",
              "      <td>3.570917</td>\n",
              "      <td>2.903518</td>\n",
              "    </tr>\n",
              "    <tr>\n",
              "      <th>30</th>\n",
              "      <td>high</td>\n",
              "      <td>high</td>\n",
              "      <td>high</td>\n",
              "      <td>toilet</td>\n",
              "      <td>49.392987</td>\n",
              "      <td>7.216872</td>\n",
              "      <td>2.840634</td>\n",
              "    </tr>\n",
              "  </tbody>\n",
              "</table>\n",
              "</div>\n",
              "    <div class=\"colab-df-buttons\">\n",
              "\n",
              "  <div class=\"colab-df-container\">\n",
              "    <button class=\"colab-df-convert\" onclick=\"convertToInteractive('df-8416fa73-0e95-40f6-997c-43735fd00ecf')\"\n",
              "            title=\"Convert this dataframe to an interactive table.\"\n",
              "            style=\"display:none;\">\n",
              "\n",
              "  <svg xmlns=\"http://www.w3.org/2000/svg\" height=\"24px\" viewBox=\"0 -960 960 960\">\n",
              "    <path d=\"M120-120v-720h720v720H120Zm60-500h600v-160H180v160Zm220 220h160v-160H400v160Zm0 220h160v-160H400v160ZM180-400h160v-160H180v160Zm440 0h160v-160H620v160ZM180-180h160v-160H180v160Zm440 0h160v-160H620v160Z\"/>\n",
              "  </svg>\n",
              "    </button>\n",
              "\n",
              "  <style>\n",
              "    .colab-df-container {\n",
              "      display:flex;\n",
              "      gap: 12px;\n",
              "    }\n",
              "\n",
              "    .colab-df-convert {\n",
              "      background-color: #E8F0FE;\n",
              "      border: none;\n",
              "      border-radius: 50%;\n",
              "      cursor: pointer;\n",
              "      display: none;\n",
              "      fill: #1967D2;\n",
              "      height: 32px;\n",
              "      padding: 0 0 0 0;\n",
              "      width: 32px;\n",
              "    }\n",
              "\n",
              "    .colab-df-convert:hover {\n",
              "      background-color: #E2EBFA;\n",
              "      box-shadow: 0px 1px 2px rgba(60, 64, 67, 0.3), 0px 1px 3px 1px rgba(60, 64, 67, 0.15);\n",
              "      fill: #174EA6;\n",
              "    }\n",
              "\n",
              "    .colab-df-buttons div {\n",
              "      margin-bottom: 4px;\n",
              "    }\n",
              "\n",
              "    [theme=dark] .colab-df-convert {\n",
              "      background-color: #3B4455;\n",
              "      fill: #D2E3FC;\n",
              "    }\n",
              "\n",
              "    [theme=dark] .colab-df-convert:hover {\n",
              "      background-color: #434B5C;\n",
              "      box-shadow: 0px 1px 3px 1px rgba(0, 0, 0, 0.15);\n",
              "      filter: drop-shadow(0px 1px 2px rgba(0, 0, 0, 0.3));\n",
              "      fill: #FFFFFF;\n",
              "    }\n",
              "  </style>\n",
              "\n",
              "    <script>\n",
              "      const buttonEl =\n",
              "        document.querySelector('#df-8416fa73-0e95-40f6-997c-43735fd00ecf button.colab-df-convert');\n",
              "      buttonEl.style.display =\n",
              "        google.colab.kernel.accessAllowed ? 'block' : 'none';\n",
              "\n",
              "      async function convertToInteractive(key) {\n",
              "        const element = document.querySelector('#df-8416fa73-0e95-40f6-997c-43735fd00ecf');\n",
              "        const dataTable =\n",
              "          await google.colab.kernel.invokeFunction('convertToInteractive',\n",
              "                                                    [key], {});\n",
              "        if (!dataTable) return;\n",
              "\n",
              "        const docLinkHtml = 'Like what you see? Visit the ' +\n",
              "          '<a target=\"_blank\" href=https://colab.research.google.com/notebooks/data_table.ipynb>data table notebook</a>'\n",
              "          + ' to learn more about interactive tables.';\n",
              "        element.innerHTML = '';\n",
              "        dataTable['output_type'] = 'display_data';\n",
              "        await google.colab.output.renderOutput(dataTable, element);\n",
              "        const docLink = document.createElement('div');\n",
              "        docLink.innerHTML = docLinkHtml;\n",
              "        element.appendChild(docLink);\n",
              "      }\n",
              "    </script>\n",
              "  </div>\n",
              "\n",
              "\n",
              "<div id=\"df-700545a1-6172-4569-98f9-f362848718be\">\n",
              "  <button class=\"colab-df-quickchart\" onclick=\"quickchart('df-700545a1-6172-4569-98f9-f362848718be')\"\n",
              "            title=\"Suggest charts\"\n",
              "            style=\"display:none;\">\n",
              "\n",
              "<svg xmlns=\"http://www.w3.org/2000/svg\" height=\"24px\"viewBox=\"0 0 24 24\"\n",
              "     width=\"24px\">\n",
              "    <g>\n",
              "        <path d=\"M19 3H5c-1.1 0-2 .9-2 2v14c0 1.1.9 2 2 2h14c1.1 0 2-.9 2-2V5c0-1.1-.9-2-2-2zM9 17H7v-7h2v7zm4 0h-2V7h2v10zm4 0h-2v-4h2v4z\"/>\n",
              "    </g>\n",
              "</svg>\n",
              "  </button>\n",
              "\n",
              "<style>\n",
              "  .colab-df-quickchart {\n",
              "      --bg-color: #E8F0FE;\n",
              "      --fill-color: #1967D2;\n",
              "      --hover-bg-color: #E2EBFA;\n",
              "      --hover-fill-color: #174EA6;\n",
              "      --disabled-fill-color: #AAA;\n",
              "      --disabled-bg-color: #DDD;\n",
              "  }\n",
              "\n",
              "  [theme=dark] .colab-df-quickchart {\n",
              "      --bg-color: #3B4455;\n",
              "      --fill-color: #D2E3FC;\n",
              "      --hover-bg-color: #434B5C;\n",
              "      --hover-fill-color: #FFFFFF;\n",
              "      --disabled-bg-color: #3B4455;\n",
              "      --disabled-fill-color: #666;\n",
              "  }\n",
              "\n",
              "  .colab-df-quickchart {\n",
              "    background-color: var(--bg-color);\n",
              "    border: none;\n",
              "    border-radius: 50%;\n",
              "    cursor: pointer;\n",
              "    display: none;\n",
              "    fill: var(--fill-color);\n",
              "    height: 32px;\n",
              "    padding: 0;\n",
              "    width: 32px;\n",
              "  }\n",
              "\n",
              "  .colab-df-quickchart:hover {\n",
              "    background-color: var(--hover-bg-color);\n",
              "    box-shadow: 0 1px 2px rgba(60, 64, 67, 0.3), 0 1px 3px 1px rgba(60, 64, 67, 0.15);\n",
              "    fill: var(--button-hover-fill-color);\n",
              "  }\n",
              "\n",
              "  .colab-df-quickchart-complete:disabled,\n",
              "  .colab-df-quickchart-complete:disabled:hover {\n",
              "    background-color: var(--disabled-bg-color);\n",
              "    fill: var(--disabled-fill-color);\n",
              "    box-shadow: none;\n",
              "  }\n",
              "\n",
              "  .colab-df-spinner {\n",
              "    border: 2px solid var(--fill-color);\n",
              "    border-color: transparent;\n",
              "    border-bottom-color: var(--fill-color);\n",
              "    animation:\n",
              "      spin 1s steps(1) infinite;\n",
              "  }\n",
              "\n",
              "  @keyframes spin {\n",
              "    0% {\n",
              "      border-color: transparent;\n",
              "      border-bottom-color: var(--fill-color);\n",
              "      border-left-color: var(--fill-color);\n",
              "    }\n",
              "    20% {\n",
              "      border-color: transparent;\n",
              "      border-left-color: var(--fill-color);\n",
              "      border-top-color: var(--fill-color);\n",
              "    }\n",
              "    30% {\n",
              "      border-color: transparent;\n",
              "      border-left-color: var(--fill-color);\n",
              "      border-top-color: var(--fill-color);\n",
              "      border-right-color: var(--fill-color);\n",
              "    }\n",
              "    40% {\n",
              "      border-color: transparent;\n",
              "      border-right-color: var(--fill-color);\n",
              "      border-top-color: var(--fill-color);\n",
              "    }\n",
              "    60% {\n",
              "      border-color: transparent;\n",
              "      border-right-color: var(--fill-color);\n",
              "    }\n",
              "    80% {\n",
              "      border-color: transparent;\n",
              "      border-right-color: var(--fill-color);\n",
              "      border-bottom-color: var(--fill-color);\n",
              "    }\n",
              "    90% {\n",
              "      border-color: transparent;\n",
              "      border-bottom-color: var(--fill-color);\n",
              "    }\n",
              "  }\n",
              "</style>\n",
              "\n",
              "  <script>\n",
              "    async function quickchart(key) {\n",
              "      const quickchartButtonEl =\n",
              "        document.querySelector('#' + key + ' button');\n",
              "      quickchartButtonEl.disabled = true;  // To prevent multiple clicks.\n",
              "      quickchartButtonEl.classList.add('colab-df-spinner');\n",
              "      try {\n",
              "        const charts = await google.colab.kernel.invokeFunction(\n",
              "            'suggestCharts', [key], {});\n",
              "      } catch (error) {\n",
              "        console.error('Error during call to suggestCharts:', error);\n",
              "      }\n",
              "      quickchartButtonEl.classList.remove('colab-df-spinner');\n",
              "      quickchartButtonEl.classList.add('colab-df-quickchart-complete');\n",
              "    }\n",
              "    (() => {\n",
              "      let quickchartButtonEl =\n",
              "        document.querySelector('#df-700545a1-6172-4569-98f9-f362848718be button');\n",
              "      quickchartButtonEl.style.display =\n",
              "        google.colab.kernel.accessAllowed ? 'block' : 'none';\n",
              "    })();\n",
              "  </script>\n",
              "</div>\n",
              "    </div>\n",
              "  </div>\n"
            ],
            "application/vnd.google.colaboratory.intrinsic+json": {
              "type": "dataframe",
              "summary": "{\n  \"name\": \"lin_resource_stats[lin_resource_stats['resource'] == 'toilet']\",\n  \"rows\": 8,\n  \"fields\": [\n    {\n      \"column\": \"humidity\",\n      \"properties\": {\n        \"dtype\": \"category\",\n        \"num_unique_values\": 2,\n        \"samples\": [\n          \"high\",\n          \"medium\"\n        ],\n        \"semantic_type\": \"\",\n        \"description\": \"\"\n      }\n    },\n    {\n      \"column\": \"wind\",\n      \"properties\": {\n        \"dtype\": \"category\",\n        \"num_unique_values\": 2,\n        \"samples\": [\n          \"high\",\n          \"medium\"\n        ],\n        \"semantic_type\": \"\",\n        \"description\": \"\"\n      }\n    },\n    {\n      \"column\": \"temperature\",\n      \"properties\": {\n        \"dtype\": \"category\",\n        \"num_unique_values\": 2,\n        \"samples\": [\n          \"high\",\n          \"medium\"\n        ],\n        \"semantic_type\": \"\",\n        \"description\": \"\"\n      }\n    },\n    {\n      \"column\": \"resource\",\n      \"properties\": {\n        \"dtype\": \"category\",\n        \"num_unique_values\": 1,\n        \"samples\": [\n          \"toilet\"\n        ],\n        \"semantic_type\": \"\",\n        \"description\": \"\"\n      }\n    },\n    {\n      \"column\": \"max queue\",\n      \"properties\": {\n        \"dtype\": \"number\",\n        \"std\": 11.547143557911992,\n        \"min\": 19.302431177800372,\n        \"max\": 49.39298708709339,\n        \"num_unique_values\": 8,\n        \"samples\": [\n          42.5644265809251\n        ],\n        \"semantic_type\": \"\",\n        \"description\": \"\"\n      }\n    },\n    {\n      \"column\": \"max median queue\",\n      \"properties\": {\n        \"dtype\": \"number\",\n        \"std\": 2.437643517170103,\n        \"min\": 0.0,\n        \"max\": 7.2168721709167585,\n        \"num_unique_values\": 6,\n        \"samples\": [\n          2.060789920435127\n        ],\n        \"semantic_type\": \"\",\n        \"description\": \"\"\n      }\n    },\n    {\n      \"column\": \"average overall\",\n      \"properties\": {\n        \"dtype\": \"number\",\n        \"std\": 0.706020447839604,\n        \"min\": 1.3287385914483931,\n        \"max\": 2.903518239469775,\n        \"num_unique_values\": 8,\n        \"samples\": [\n          2.7850094989828253\n        ],\n        \"semantic_type\": \"\",\n        \"description\": \"\"\n      }\n    }\n  ]\n}"
            }
          },
          "metadata": {},
          "execution_count": 22
        }
      ]
    },
    {
      "cell_type": "code",
      "source": [
        "lin_resource_stats[lin_resource_stats['resource'] == 'medical']"
      ],
      "metadata": {
        "colab": {
          "base_uri": "https://localhost:8080/",
          "height": 300
        },
        "id": "XZHqxwPb_jrJ",
        "outputId": "9744424e-1503-47df-956a-0242ec2e47f8"
      },
      "execution_count": 23,
      "outputs": [
        {
          "output_type": "execute_result",
          "data": {
            "text/plain": [
              "   humidity    wind temperature resource   max queue  max median queue  \\\n",
              "1    medium  medium      medium  medical  161.059636          0.000000   \n",
              "5    medium    high      medium  medical  191.071797          0.000000   \n",
              "9    medium  medium        high  medical  181.231188          0.000000   \n",
              "13   medium    high        high  medical  129.447704          0.000000   \n",
              "17     high  medium      medium  medical  416.804684         80.951358   \n",
              "21     high    high      medium  medical  162.386682          0.000000   \n",
              "25     high  medium        high  medical  153.627642          0.000000   \n",
              "29     high    high        high  medical  319.328649         24.609166   \n",
              "\n",
              "    average overall  \n",
              "1          1.425307  \n",
              "5          3.059162  \n",
              "9          3.315849  \n",
              "13         5.378482  \n",
              "17        25.249765  \n",
              "21         3.927742  \n",
              "25         3.995360  \n",
              "29        17.332563  "
            ],
            "text/html": [
              "\n",
              "  <div id=\"df-4270c9b1-bf54-4861-b4ce-21daf5168228\" class=\"colab-df-container\">\n",
              "    <div>\n",
              "<style scoped>\n",
              "    .dataframe tbody tr th:only-of-type {\n",
              "        vertical-align: middle;\n",
              "    }\n",
              "\n",
              "    .dataframe tbody tr th {\n",
              "        vertical-align: top;\n",
              "    }\n",
              "\n",
              "    .dataframe thead th {\n",
              "        text-align: right;\n",
              "    }\n",
              "</style>\n",
              "<table border=\"1\" class=\"dataframe\">\n",
              "  <thead>\n",
              "    <tr style=\"text-align: right;\">\n",
              "      <th></th>\n",
              "      <th>humidity</th>\n",
              "      <th>wind</th>\n",
              "      <th>temperature</th>\n",
              "      <th>resource</th>\n",
              "      <th>max queue</th>\n",
              "      <th>max median queue</th>\n",
              "      <th>average overall</th>\n",
              "    </tr>\n",
              "  </thead>\n",
              "  <tbody>\n",
              "    <tr>\n",
              "      <th>1</th>\n",
              "      <td>medium</td>\n",
              "      <td>medium</td>\n",
              "      <td>medium</td>\n",
              "      <td>medical</td>\n",
              "      <td>161.059636</td>\n",
              "      <td>0.000000</td>\n",
              "      <td>1.425307</td>\n",
              "    </tr>\n",
              "    <tr>\n",
              "      <th>5</th>\n",
              "      <td>medium</td>\n",
              "      <td>high</td>\n",
              "      <td>medium</td>\n",
              "      <td>medical</td>\n",
              "      <td>191.071797</td>\n",
              "      <td>0.000000</td>\n",
              "      <td>3.059162</td>\n",
              "    </tr>\n",
              "    <tr>\n",
              "      <th>9</th>\n",
              "      <td>medium</td>\n",
              "      <td>medium</td>\n",
              "      <td>high</td>\n",
              "      <td>medical</td>\n",
              "      <td>181.231188</td>\n",
              "      <td>0.000000</td>\n",
              "      <td>3.315849</td>\n",
              "    </tr>\n",
              "    <tr>\n",
              "      <th>13</th>\n",
              "      <td>medium</td>\n",
              "      <td>high</td>\n",
              "      <td>high</td>\n",
              "      <td>medical</td>\n",
              "      <td>129.447704</td>\n",
              "      <td>0.000000</td>\n",
              "      <td>5.378482</td>\n",
              "    </tr>\n",
              "    <tr>\n",
              "      <th>17</th>\n",
              "      <td>high</td>\n",
              "      <td>medium</td>\n",
              "      <td>medium</td>\n",
              "      <td>medical</td>\n",
              "      <td>416.804684</td>\n",
              "      <td>80.951358</td>\n",
              "      <td>25.249765</td>\n",
              "    </tr>\n",
              "    <tr>\n",
              "      <th>21</th>\n",
              "      <td>high</td>\n",
              "      <td>high</td>\n",
              "      <td>medium</td>\n",
              "      <td>medical</td>\n",
              "      <td>162.386682</td>\n",
              "      <td>0.000000</td>\n",
              "      <td>3.927742</td>\n",
              "    </tr>\n",
              "    <tr>\n",
              "      <th>25</th>\n",
              "      <td>high</td>\n",
              "      <td>medium</td>\n",
              "      <td>high</td>\n",
              "      <td>medical</td>\n",
              "      <td>153.627642</td>\n",
              "      <td>0.000000</td>\n",
              "      <td>3.995360</td>\n",
              "    </tr>\n",
              "    <tr>\n",
              "      <th>29</th>\n",
              "      <td>high</td>\n",
              "      <td>high</td>\n",
              "      <td>high</td>\n",
              "      <td>medical</td>\n",
              "      <td>319.328649</td>\n",
              "      <td>24.609166</td>\n",
              "      <td>17.332563</td>\n",
              "    </tr>\n",
              "  </tbody>\n",
              "</table>\n",
              "</div>\n",
              "    <div class=\"colab-df-buttons\">\n",
              "\n",
              "  <div class=\"colab-df-container\">\n",
              "    <button class=\"colab-df-convert\" onclick=\"convertToInteractive('df-4270c9b1-bf54-4861-b4ce-21daf5168228')\"\n",
              "            title=\"Convert this dataframe to an interactive table.\"\n",
              "            style=\"display:none;\">\n",
              "\n",
              "  <svg xmlns=\"http://www.w3.org/2000/svg\" height=\"24px\" viewBox=\"0 -960 960 960\">\n",
              "    <path d=\"M120-120v-720h720v720H120Zm60-500h600v-160H180v160Zm220 220h160v-160H400v160Zm0 220h160v-160H400v160ZM180-400h160v-160H180v160Zm440 0h160v-160H620v160ZM180-180h160v-160H180v160Zm440 0h160v-160H620v160Z\"/>\n",
              "  </svg>\n",
              "    </button>\n",
              "\n",
              "  <style>\n",
              "    .colab-df-container {\n",
              "      display:flex;\n",
              "      gap: 12px;\n",
              "    }\n",
              "\n",
              "    .colab-df-convert {\n",
              "      background-color: #E8F0FE;\n",
              "      border: none;\n",
              "      border-radius: 50%;\n",
              "      cursor: pointer;\n",
              "      display: none;\n",
              "      fill: #1967D2;\n",
              "      height: 32px;\n",
              "      padding: 0 0 0 0;\n",
              "      width: 32px;\n",
              "    }\n",
              "\n",
              "    .colab-df-convert:hover {\n",
              "      background-color: #E2EBFA;\n",
              "      box-shadow: 0px 1px 2px rgba(60, 64, 67, 0.3), 0px 1px 3px 1px rgba(60, 64, 67, 0.15);\n",
              "      fill: #174EA6;\n",
              "    }\n",
              "\n",
              "    .colab-df-buttons div {\n",
              "      margin-bottom: 4px;\n",
              "    }\n",
              "\n",
              "    [theme=dark] .colab-df-convert {\n",
              "      background-color: #3B4455;\n",
              "      fill: #D2E3FC;\n",
              "    }\n",
              "\n",
              "    [theme=dark] .colab-df-convert:hover {\n",
              "      background-color: #434B5C;\n",
              "      box-shadow: 0px 1px 3px 1px rgba(0, 0, 0, 0.15);\n",
              "      filter: drop-shadow(0px 1px 2px rgba(0, 0, 0, 0.3));\n",
              "      fill: #FFFFFF;\n",
              "    }\n",
              "  </style>\n",
              "\n",
              "    <script>\n",
              "      const buttonEl =\n",
              "        document.querySelector('#df-4270c9b1-bf54-4861-b4ce-21daf5168228 button.colab-df-convert');\n",
              "      buttonEl.style.display =\n",
              "        google.colab.kernel.accessAllowed ? 'block' : 'none';\n",
              "\n",
              "      async function convertToInteractive(key) {\n",
              "        const element = document.querySelector('#df-4270c9b1-bf54-4861-b4ce-21daf5168228');\n",
              "        const dataTable =\n",
              "          await google.colab.kernel.invokeFunction('convertToInteractive',\n",
              "                                                    [key], {});\n",
              "        if (!dataTable) return;\n",
              "\n",
              "        const docLinkHtml = 'Like what you see? Visit the ' +\n",
              "          '<a target=\"_blank\" href=https://colab.research.google.com/notebooks/data_table.ipynb>data table notebook</a>'\n",
              "          + ' to learn more about interactive tables.';\n",
              "        element.innerHTML = '';\n",
              "        dataTable['output_type'] = 'display_data';\n",
              "        await google.colab.output.renderOutput(dataTable, element);\n",
              "        const docLink = document.createElement('div');\n",
              "        docLink.innerHTML = docLinkHtml;\n",
              "        element.appendChild(docLink);\n",
              "      }\n",
              "    </script>\n",
              "  </div>\n",
              "\n",
              "\n",
              "<div id=\"df-a0af1ea1-cf2c-4c97-9949-039053efde6f\">\n",
              "  <button class=\"colab-df-quickchart\" onclick=\"quickchart('df-a0af1ea1-cf2c-4c97-9949-039053efde6f')\"\n",
              "            title=\"Suggest charts\"\n",
              "            style=\"display:none;\">\n",
              "\n",
              "<svg xmlns=\"http://www.w3.org/2000/svg\" height=\"24px\"viewBox=\"0 0 24 24\"\n",
              "     width=\"24px\">\n",
              "    <g>\n",
              "        <path d=\"M19 3H5c-1.1 0-2 .9-2 2v14c0 1.1.9 2 2 2h14c1.1 0 2-.9 2-2V5c0-1.1-.9-2-2-2zM9 17H7v-7h2v7zm4 0h-2V7h2v10zm4 0h-2v-4h2v4z\"/>\n",
              "    </g>\n",
              "</svg>\n",
              "  </button>\n",
              "\n",
              "<style>\n",
              "  .colab-df-quickchart {\n",
              "      --bg-color: #E8F0FE;\n",
              "      --fill-color: #1967D2;\n",
              "      --hover-bg-color: #E2EBFA;\n",
              "      --hover-fill-color: #174EA6;\n",
              "      --disabled-fill-color: #AAA;\n",
              "      --disabled-bg-color: #DDD;\n",
              "  }\n",
              "\n",
              "  [theme=dark] .colab-df-quickchart {\n",
              "      --bg-color: #3B4455;\n",
              "      --fill-color: #D2E3FC;\n",
              "      --hover-bg-color: #434B5C;\n",
              "      --hover-fill-color: #FFFFFF;\n",
              "      --disabled-bg-color: #3B4455;\n",
              "      --disabled-fill-color: #666;\n",
              "  }\n",
              "\n",
              "  .colab-df-quickchart {\n",
              "    background-color: var(--bg-color);\n",
              "    border: none;\n",
              "    border-radius: 50%;\n",
              "    cursor: pointer;\n",
              "    display: none;\n",
              "    fill: var(--fill-color);\n",
              "    height: 32px;\n",
              "    padding: 0;\n",
              "    width: 32px;\n",
              "  }\n",
              "\n",
              "  .colab-df-quickchart:hover {\n",
              "    background-color: var(--hover-bg-color);\n",
              "    box-shadow: 0 1px 2px rgba(60, 64, 67, 0.3), 0 1px 3px 1px rgba(60, 64, 67, 0.15);\n",
              "    fill: var(--button-hover-fill-color);\n",
              "  }\n",
              "\n",
              "  .colab-df-quickchart-complete:disabled,\n",
              "  .colab-df-quickchart-complete:disabled:hover {\n",
              "    background-color: var(--disabled-bg-color);\n",
              "    fill: var(--disabled-fill-color);\n",
              "    box-shadow: none;\n",
              "  }\n",
              "\n",
              "  .colab-df-spinner {\n",
              "    border: 2px solid var(--fill-color);\n",
              "    border-color: transparent;\n",
              "    border-bottom-color: var(--fill-color);\n",
              "    animation:\n",
              "      spin 1s steps(1) infinite;\n",
              "  }\n",
              "\n",
              "  @keyframes spin {\n",
              "    0% {\n",
              "      border-color: transparent;\n",
              "      border-bottom-color: var(--fill-color);\n",
              "      border-left-color: var(--fill-color);\n",
              "    }\n",
              "    20% {\n",
              "      border-color: transparent;\n",
              "      border-left-color: var(--fill-color);\n",
              "      border-top-color: var(--fill-color);\n",
              "    }\n",
              "    30% {\n",
              "      border-color: transparent;\n",
              "      border-left-color: var(--fill-color);\n",
              "      border-top-color: var(--fill-color);\n",
              "      border-right-color: var(--fill-color);\n",
              "    }\n",
              "    40% {\n",
              "      border-color: transparent;\n",
              "      border-right-color: var(--fill-color);\n",
              "      border-top-color: var(--fill-color);\n",
              "    }\n",
              "    60% {\n",
              "      border-color: transparent;\n",
              "      border-right-color: var(--fill-color);\n",
              "    }\n",
              "    80% {\n",
              "      border-color: transparent;\n",
              "      border-right-color: var(--fill-color);\n",
              "      border-bottom-color: var(--fill-color);\n",
              "    }\n",
              "    90% {\n",
              "      border-color: transparent;\n",
              "      border-bottom-color: var(--fill-color);\n",
              "    }\n",
              "  }\n",
              "</style>\n",
              "\n",
              "  <script>\n",
              "    async function quickchart(key) {\n",
              "      const quickchartButtonEl =\n",
              "        document.querySelector('#' + key + ' button');\n",
              "      quickchartButtonEl.disabled = true;  // To prevent multiple clicks.\n",
              "      quickchartButtonEl.classList.add('colab-df-spinner');\n",
              "      try {\n",
              "        const charts = await google.colab.kernel.invokeFunction(\n",
              "            'suggestCharts', [key], {});\n",
              "      } catch (error) {\n",
              "        console.error('Error during call to suggestCharts:', error);\n",
              "      }\n",
              "      quickchartButtonEl.classList.remove('colab-df-spinner');\n",
              "      quickchartButtonEl.classList.add('colab-df-quickchart-complete');\n",
              "    }\n",
              "    (() => {\n",
              "      let quickchartButtonEl =\n",
              "        document.querySelector('#df-a0af1ea1-cf2c-4c97-9949-039053efde6f button');\n",
              "      quickchartButtonEl.style.display =\n",
              "        google.colab.kernel.accessAllowed ? 'block' : 'none';\n",
              "    })();\n",
              "  </script>\n",
              "</div>\n",
              "    </div>\n",
              "  </div>\n"
            ],
            "application/vnd.google.colaboratory.intrinsic+json": {
              "type": "dataframe",
              "summary": "{\n  \"name\": \"lin_resource_stats[lin_resource_stats['resource'] == 'medical']\",\n  \"rows\": 8,\n  \"fields\": [\n    {\n      \"column\": \"humidity\",\n      \"properties\": {\n        \"dtype\": \"category\",\n        \"num_unique_values\": 2,\n        \"samples\": [\n          \"high\",\n          \"medium\"\n        ],\n        \"semantic_type\": \"\",\n        \"description\": \"\"\n      }\n    },\n    {\n      \"column\": \"wind\",\n      \"properties\": {\n        \"dtype\": \"category\",\n        \"num_unique_values\": 2,\n        \"samples\": [\n          \"high\",\n          \"medium\"\n        ],\n        \"semantic_type\": \"\",\n        \"description\": \"\"\n      }\n    },\n    {\n      \"column\": \"temperature\",\n      \"properties\": {\n        \"dtype\": \"category\",\n        \"num_unique_values\": 2,\n        \"samples\": [\n          \"high\",\n          \"medium\"\n        ],\n        \"semantic_type\": \"\",\n        \"description\": \"\"\n      }\n    },\n    {\n      \"column\": \"resource\",\n      \"properties\": {\n        \"dtype\": \"category\",\n        \"num_unique_values\": 1,\n        \"samples\": [\n          \"medical\"\n        ],\n        \"semantic_type\": \"\",\n        \"description\": \"\"\n      }\n    },\n    {\n      \"column\": \"max queue\",\n      \"properties\": {\n        \"dtype\": \"number\",\n        \"std\": 100.05912330706226,\n        \"min\": 129.4477039128551,\n        \"max\": 416.80468385042514,\n        \"num_unique_values\": 8,\n        \"samples\": [\n          191.07179692644945\n        ],\n        \"semantic_type\": \"\",\n        \"description\": \"\"\n      }\n    },\n    {\n      \"column\": \"max median queue\",\n      \"properties\": {\n        \"dtype\": \"number\",\n        \"std\": 28.700063221374013,\n        \"min\": 0.0,\n        \"max\": 80.95135819843381,\n        \"num_unique_values\": 3,\n        \"samples\": [\n          0.0\n        ],\n        \"semantic_type\": \"\",\n        \"description\": \"\"\n      }\n    },\n    {\n      \"column\": \"average overall\",\n      \"properties\": {\n        \"dtype\": \"number\",\n        \"std\": 8.566639437237399,\n        \"min\": 1.4253065176650463,\n        \"max\": 25.249765049179395,\n        \"num_unique_values\": 8,\n        \"samples\": [\n          3.05916240100478\n        ],\n        \"semantic_type\": \"\",\n        \"description\": \"\"\n      }\n    }\n  ]\n}"
            }
          },
          "metadata": {},
          "execution_count": 23
        }
      ]
    },
    {
      "cell_type": "markdown",
      "source": [
        "# Plot Data"
      ],
      "metadata": {
        "id": "UwcewTzruAHV"
      }
    },
    {
      "cell_type": "markdown",
      "source": [
        "## Obtain Example Run"
      ],
      "metadata": {
        "id": "QZpcppOB6-LK"
      }
    },
    {
      "cell_type": "code",
      "source": [
        "# _r = obtain_repeated_results(num_runs = 1)[0]\n",
        "# resources = _r['resources']\n",
        "# runners = _r['runners']\n",
        "\n",
        "baseline_water = math.ceil(sum(right_sized_cached['obtained_water_capacities']) / 11)\n",
        "baseline_toilet = math.ceil(sum(right_sized_cached['obtained_toilet_capacities']) / 11)\n",
        "baseline_meal = math.ceil(sum([ i for i in right_sized_cached['obtained_meal_capacities'] if i != None]) / 7)\n",
        "baseline_medical = math.ceil(sum([ i for i in right_sized_cached['obtained_medical_capacities'] if i != None]) / 8)\n",
        "\n",
        "print(\"baseline params per station:\")\n",
        "print(\"water: {}\".format(baseline_water))\n",
        "print(\"toilet: {}\".format(baseline_toilet))\n",
        "print(\"meal: {}\".format(baseline_meal))\n",
        "print(\"medical: {}\".format(baseline_medical))\n",
        "\n",
        "runners, resources = run_simulation(\n",
        "    11933.0,\n",
        "    usage_times,\n",
        "    need_functions,\n",
        "    meal_capacity=baseline_meal,\n",
        "    water_capacity=baseline_water,\n",
        "    toilet_capacity=baseline_toilet,\n",
        "    medical_capacity=baseline_medical,\n",
        ")"
      ],
      "metadata": {
        "colab": {
          "base_uri": "https://localhost:8080/"
        },
        "id": "Fztj-8X468ld",
        "outputId": "c5389f47-6ed1-4f6b-a2e7-8aed704ded11"
      },
      "execution_count": 24,
      "outputs": [
        {
          "output_type": "stream",
          "name": "stdout",
          "text": [
            "baseline params per station:\n",
            "water: 30\n",
            "toilet: 55\n",
            "meal: 13\n",
            "medical: 7\n"
          ]
        }
      ]
    },
    {
      "cell_type": "markdown",
      "source": [
        "## Compute Data"
      ],
      "metadata": {
        "id": "oKGYY1jl2h4V"
      }
    },
    {
      "cell_type": "code",
      "source": [
        "num_users_by_station = pd.DataFrame({k: num_users(resources, k) for k in resource_names})\n"
      ],
      "metadata": {
        "id": "jyjg4CDck4_b"
      },
      "execution_count": 25,
      "outputs": []
    },
    {
      "cell_type": "code",
      "source": [
        "sum(num_users(resources, 'medical'))"
      ],
      "metadata": {
        "colab": {
          "base_uri": "https://localhost:8080/"
        },
        "id": "zFDg5Qu7tPU0",
        "outputId": "b21baeef-3cdc-40e8-bce9-2cdcefe90a60"
      },
      "execution_count": 26,
      "outputs": [
        {
          "output_type": "execute_result",
          "data": {
            "text/plain": [
              "129"
            ]
          },
          "metadata": {},
          "execution_count": 26
        }
      ]
    },
    {
      "cell_type": "code",
      "source": [
        "median_needs = pd.DataFrame(median_need_by_station(runners, resource_names))\n",
        "total_skipped = pd.DataFrame(total_skipped_by_station(runners, resource_names))"
      ],
      "metadata": {
        "id": "mfiUPTyXwj6F"
      },
      "execution_count": 27,
      "outputs": []
    },
    {
      "cell_type": "code",
      "source": [
        "finishing_times= [runner.finishing_time for runner in runners]\n",
        "expected_finishing_times = [runner.running_time(marathon_distance) for runner in runners]"
      ],
      "metadata": {
        "id": "RFs3oy_j-YUq"
      },
      "execution_count": 28,
      "outputs": []
    },
    {
      "cell_type": "markdown",
      "source": [
        "## Actual plots"
      ],
      "metadata": {
        "id": "7t0Z1HO-PNPu"
      }
    },
    {
      "cell_type": "code",
      "source": [
        "import matplotlib.pyplot as plt"
      ],
      "metadata": {
        "id": "OLbq1E1Bqy3F"
      },
      "execution_count": 29,
      "outputs": []
    },
    {
      "cell_type": "code",
      "source": [
        "from google.colab import files\n",
        "def download_plot(name):\n",
        "  plt.savefig(name)\n",
        "  files.download(name)\n"
      ],
      "metadata": {
        "id": "MJrpfSOn8G31"
      },
      "execution_count": 30,
      "outputs": []
    },
    {
      "cell_type": "code",
      "source": [
        "plt.figure()\n",
        "num_users_by_station.plot()\n",
        "download_plot('users-by-station.pdf')"
      ],
      "metadata": {
        "colab": {
          "base_uri": "https://localhost:8080/",
          "height": 448
        },
        "id": "uz2MeuL58Kn5",
        "outputId": "0c68e99a-1029-4160-e30a-8bbaaf0b8858"
      },
      "execution_count": 31,
      "outputs": [
        {
          "output_type": "display_data",
          "data": {
            "text/plain": [
              "<IPython.core.display.Javascript object>"
            ],
            "application/javascript": [
              "\n",
              "    async function download(id, filename, size) {\n",
              "      if (!google.colab.kernel.accessAllowed) {\n",
              "        return;\n",
              "      }\n",
              "      const div = document.createElement('div');\n",
              "      const label = document.createElement('label');\n",
              "      label.textContent = `Downloading \"${filename}\": `;\n",
              "      div.appendChild(label);\n",
              "      const progress = document.createElement('progress');\n",
              "      progress.max = size;\n",
              "      div.appendChild(progress);\n",
              "      document.body.appendChild(div);\n",
              "\n",
              "      const buffers = [];\n",
              "      let downloaded = 0;\n",
              "\n",
              "      const channel = await google.colab.kernel.comms.open(id);\n",
              "      // Send a message to notify the kernel that we're ready.\n",
              "      channel.send({})\n",
              "\n",
              "      for await (const message of channel.messages) {\n",
              "        // Send a message to notify the kernel that we're ready.\n",
              "        channel.send({})\n",
              "        if (message.buffers) {\n",
              "          for (const buffer of message.buffers) {\n",
              "            buffers.push(buffer);\n",
              "            downloaded += buffer.byteLength;\n",
              "            progress.value = downloaded;\n",
              "          }\n",
              "        }\n",
              "      }\n",
              "      const blob = new Blob(buffers, {type: 'application/binary'});\n",
              "      const a = document.createElement('a');\n",
              "      a.href = window.URL.createObjectURL(blob);\n",
              "      a.download = filename;\n",
              "      div.appendChild(a);\n",
              "      a.click();\n",
              "      div.remove();\n",
              "    }\n",
              "  "
            ]
          },
          "metadata": {}
        },
        {
          "output_type": "display_data",
          "data": {
            "text/plain": [
              "<IPython.core.display.Javascript object>"
            ],
            "application/javascript": [
              "download(\"download_55a94a0d-cbc9-403a-8f9a-008ef910fefb\", \"users-by-station.pdf\", 9383)"
            ]
          },
          "metadata": {}
        },
        {
          "output_type": "display_data",
          "data": {
            "text/plain": [
              "<Figure size 640x480 with 0 Axes>"
            ]
          },
          "metadata": {}
        },
        {
          "output_type": "display_data",
          "data": {
            "text/plain": [
              "<Figure size 640x480 with 1 Axes>"
            ],
            "image/png": "[encoded data removed]"
          },
          "metadata": {}
        }
      ]
    },
    {
      "cell_type": "code",
      "source": [
        "plt.hist(finishing_times)\n"
      ],
      "metadata": {
        "colab": {
          "base_uri": "https://localhost:8080/",
          "height": 540
        },
        "id": "V0SQy-Sy065N",
        "outputId": "96fa5d3a-921d-401d-8626-ddb71ec983a5"
      },
      "execution_count": 32,
      "outputs": [
        {
          "output_type": "execute_result",
          "data": {
            "text/plain": [
              "(array([  12.,  125.,  652., 1290., 1576., 1662., 1498., 1112.,  362.,\n",
              "          14.]),\n",
              " array([ 7428.38060084,  8450.0614695 ,  9471.74233817, 10493.42320684,\n",
              "        11515.10407551, 12536.78494418, 13558.46581285, 14580.14668152,\n",
              "        15601.82755018, 16623.50841885, 17645.18928752]),\n",
              " <BarContainer object of 10 artists>)"
            ]
          },
          "metadata": {},
          "execution_count": 32
        },
        {
          "output_type": "display_data",
          "data": {
            "text/plain": [
              "<Figure size 640x480 with 1 Axes>"
            ],
            "image/png": "[encoded data removed]"
          },
          "metadata": {}
        }
      ]
    },
    {
      "cell_type": "code",
      "source": [
        "\n",
        "plt.hist(expected_finishing_times)"
      ],
      "metadata": {
        "colab": {
          "base_uri": "https://localhost:8080/",
          "height": 540
        },
        "id": "3RI_92Jd2s4e",
        "outputId": "1cc0a339-5af4-46e5-c6d0-4b3f2aa80f43"
      },
      "execution_count": 33,
      "outputs": [
        {
          "output_type": "execute_result",
          "data": {
            "text/plain": [
              "(array([  10.,   89.,  521., 1483., 2530., 2192., 1109.,  330.,   35.,\n",
              "           4.]),\n",
              " array([ 7337.84888985,  8289.88631129,  9241.92373273, 10193.96115416,\n",
              "        11145.9985756 , 12098.03599704, 13050.07341848, 14002.11083991,\n",
              "        14954.14826135, 15906.18568279, 16858.22310422]),\n",
              " <BarContainer object of 10 artists>)"
            ]
          },
          "metadata": {},
          "execution_count": 33
        },
        {
          "output_type": "display_data",
          "data": {
            "text/plain": [
              "<Figure size 640x480 with 1 Axes>"
            ],
            "image/png": "[encoded data removed]"
          },
          "metadata": {}
        }
      ]
    },
    {
      "cell_type": "code",
      "source": [
        "print(\"min actual: {}  min expected: {}\".format( min(finishing_times), min(expected_finishing_times)))\n",
        "print(\"max actual: {}  max expected: {}\".format( max(finishing_times), max(expected_finishing_times)))"
      ],
      "metadata": {
        "colab": {
          "base_uri": "https://localhost:8080/"
        },
        "id": "molpJMXY6L4_",
        "outputId": "0bc6c5b3-b098-47bf-e29e-0ac222b2024f"
      },
      "execution_count": 34,
      "outputs": [
        {
          "output_type": "stream",
          "name": "stdout",
          "text": [
            "min actual: 7428.380600835166  min expected: 7337.848889853133\n",
            "max actual: 17645.189287520683  max expected: 16858.223104224904\n"
          ]
        }
      ]
    },
    {
      "cell_type": "code",
      "source": [
        "# total_skipped.plot()\n",
        "median_needs.plot()\n",
        "download_plot(\"median-needs.pdf\")"
      ],
      "metadata": {
        "colab": {
          "base_uri": "https://localhost:8080/",
          "height": 430
        },
        "id": "hHWaYh32v95r",
        "outputId": "c47f26ef-2dae-4192-a386-5a6e842f45dd"
      },
      "execution_count": 35,
      "outputs": [
        {
          "output_type": "display_data",
          "data": {
            "text/plain": [
              "<IPython.core.display.Javascript object>"
            ],
            "application/javascript": [
              "\n",
              "    async function download(id, filename, size) {\n",
              "      if (!google.colab.kernel.accessAllowed) {\n",
              "        return;\n",
              "      }\n",
              "      const div = document.createElement('div');\n",
              "      const label = document.createElement('label');\n",
              "      label.textContent = `Downloading \"${filename}\": `;\n",
              "      div.appendChild(label);\n",
              "      const progress = document.createElement('progress');\n",
              "      progress.max = size;\n",
              "      div.appendChild(progress);\n",
              "      document.body.appendChild(div);\n",
              "\n",
              "      const buffers = [];\n",
              "      let downloaded = 0;\n",
              "\n",
              "      const channel = await google.colab.kernel.comms.open(id);\n",
              "      // Send a message to notify the kernel that we're ready.\n",
              "      channel.send({})\n",
              "\n",
              "      for await (const message of channel.messages) {\n",
              "        // Send a message to notify the kernel that we're ready.\n",
              "        channel.send({})\n",
              "        if (message.buffers) {\n",
              "          for (const buffer of message.buffers) {\n",
              "            buffers.push(buffer);\n",
              "            downloaded += buffer.byteLength;\n",
              "            progress.value = downloaded;\n",
              "          }\n",
              "        }\n",
              "      }\n",
              "      const blob = new Blob(buffers, {type: 'application/binary'});\n",
              "      const a = document.createElement('a');\n",
              "      a.href = window.URL.createObjectURL(blob);\n",
              "      a.download = filename;\n",
              "      div.appendChild(a);\n",
              "      a.click();\n",
              "      div.remove();\n",
              "    }\n",
              "  "
            ]
          },
          "metadata": {}
        },
        {
          "output_type": "display_data",
          "data": {
            "text/plain": [
              "<IPython.core.display.Javascript object>"
            ],
            "application/javascript": [
              "download(\"download_9299b322-c774-4abd-82cf-c3247a5510eb\", \"median-needs.pdf\", 9976)"
            ]
          },
          "metadata": {}
        },
        {
          "output_type": "display_data",
          "data": {
            "text/plain": [
              "<Figure size 640x480 with 1 Axes>"
            ],
            "image/png": "[encoded data removed]"
          },
          "metadata": {}
        }
      ]
    },
    {
      "cell_type": "code",
      "source": [
        "import matplotlib as mpl\n",
        "\n",
        "mpl.pyplot.hist(resources[0]['water'].waiting_times)\n"
      ],
      "metadata": {
        "colab": {
          "base_uri": "https://localhost:8080/",
          "height": 544
        },
        "id": "8-ziS9SVm2fD",
        "outputId": "fbec1d10-fb00-4fc0-a841-fce804885a7b"
      },
      "execution_count": 36,
      "outputs": [
        {
          "output_type": "execute_result",
          "data": {
            "text/plain": [
              "(array([1419.,  727.,  611.,  606.,  629.,  594.,  628.,  710.,  822.,\n",
              "        1528.]),\n",
              " array([  0.        ,  73.49855014, 146.99710028, 220.49565042,\n",
              "        293.99420057, 367.49275071, 440.99130085, 514.48985099,\n",
              "        587.98840113, 661.48695127, 734.98550142]),\n",
              " <BarContainer object of 10 artists>)"
            ]
          },
          "metadata": {},
          "execution_count": 36
        },
        {
          "output_type": "display_data",
          "data": {
            "text/plain": [
              "<Figure size 640x480 with 1 Axes>"
            ],
            "image/png": "[encoded data removed]"
          },
          "metadata": {}
        }
      ]
    },
    {
      "cell_type": "code",
      "source": [
        "\n",
        "import statistics\n",
        "\n",
        "fig, ax = plt.subplots()\n",
        "median_needs.plot(ax= ax)\n"
      ],
      "metadata": {
        "colab": {
          "base_uri": "https://localhost:8080/",
          "height": 448
        },
        "id": "P3Xijgxth6KX",
        "outputId": "5ac66a80-3b0e-4199-aa9e-158248247758"
      },
      "execution_count": 37,
      "outputs": [
        {
          "output_type": "execute_result",
          "data": {
            "text/plain": [
              "<Axes: >"
            ]
          },
          "metadata": {},
          "execution_count": 37
        },
        {
          "output_type": "display_data",
          "data": {
            "text/plain": [
              "<Figure size 640x480 with 1 Axes>"
            ],
            "image/png": "[encoded data removed]"
          },
          "metadata": {}
        }
      ]
    },
    {
      "cell_type": "code",
      "source": [
        "list(map(len, waiting_times(resources, 'medical')))"
      ],
      "metadata": {
        "colab": {
          "base_uri": "https://localhost:8080/"
        },
        "id": "jmQkQWa11QcF",
        "outputId": "ab2ae263-5dfc-4f93-b92c-21a459ec8412"
      },
      "execution_count": 38,
      "outputs": [
        {
          "output_type": "execute_result",
          "data": {
            "text/plain": [
              "[3, 8, 11, 18, 17, 1, 20, 1, 18, 1, 34, 1]"
            ]
          },
          "metadata": {},
          "execution_count": 38
        }
      ]
    },
    {
      "cell_type": "code",
      "source": [
        "stations = list(usage_times.keys())\n",
        "median_wait = {\n",
        "    'meal': [statistics.median(t) for t in waiting_times(resources, 'meal')],\n",
        "    'toilet': [statistics.median(t) for t in waiting_times(resources, 'toilet')],\n",
        "    'water': [statistics.median(t) for t in waiting_times(resources, 'water')],\n",
        "    'medical': [statistics.median(t) if len(t) > 0 else 0 for t in waiting_times(resources, 'medical')],\n",
        "}\n",
        "\n",
        "x = np.arange(len(median_wait['water']))  # the label locations\n",
        "width = 1.0/ (len(stations) + 1.0)  # the width of the bars\n",
        "multiplier = len(median_wait.keys())\n",
        "\n",
        "fig, ax = plt.subplots(layout='constrained')\n",
        "\n",
        "for attribute, measurement in median_wait.items():\n",
        "    offset = width * multiplier\n",
        "    rects = ax.bar(x  + offset, measurement, width, label=attribute)\n",
        "    ax.bar_label(rects, fmt=\"%i\", padding=3)\n",
        "    multiplier += 1\n",
        "\n",
        "# Add some text for labels, title and custom x-axis tick labels, etc.\n",
        "ax.set_ylabel('Median waiting time')\n",
        "ax.set_title('Median waiting time per station')\n",
        "ax.set_xticks(x + width, x)\n",
        "ax.legend(loc='upper left', ncols=4)\n",
        "ax.margins(0.05, 0.2)\n",
        "\n",
        "\n",
        "download_plot(\"median-wait-per-station.pdf\")\n"
      ],
      "metadata": {
        "id": "oc67Wnh-m8W5",
        "colab": {
          "base_uri": "https://localhost:8080/",
          "height": 508
        },
        "outputId": "5e6f1db8-225a-4b9f-fa86-79b2b130ade5"
      },
      "execution_count": 39,
      "outputs": [
        {
          "output_type": "display_data",
          "data": {
            "text/plain": [
              "<IPython.core.display.Javascript object>"
            ],
            "application/javascript": [
              "\n",
              "    async function download(id, filename, size) {\n",
              "      if (!google.colab.kernel.accessAllowed) {\n",
              "        return;\n",
              "      }\n",
              "      const div = document.createElement('div');\n",
              "      const label = document.createElement('label');\n",
              "      label.textContent = `Downloading \"${filename}\": `;\n",
              "      div.appendChild(label);\n",
              "      const progress = document.createElement('progress');\n",
              "      progress.max = size;\n",
              "      div.appendChild(progress);\n",
              "      document.body.appendChild(div);\n",
              "\n",
              "      const buffers = [];\n",
              "      let downloaded = 0;\n",
              "\n",
              "      const channel = await google.colab.kernel.comms.open(id);\n",
              "      // Send a message to notify the kernel that we're ready.\n",
              "      channel.send({})\n",
              "\n",
              "      for await (const message of channel.messages) {\n",
              "        // Send a message to notify the kernel that we're ready.\n",
              "        channel.send({})\n",
              "        if (message.buffers) {\n",
              "          for (const buffer of message.buffers) {\n",
              "            buffers.push(buffer);\n",
              "            downloaded += buffer.byteLength;\n",
              "            progress.value = downloaded;\n",
              "          }\n",
              "        }\n",
              "      }\n",
              "      const blob = new Blob(buffers, {type: 'application/binary'});\n",
              "      const a = document.createElement('a');\n",
              "      a.href = window.URL.createObjectURL(blob);\n",
              "      a.download = filename;\n",
              "      div.appendChild(a);\n",
              "      a.click();\n",
              "      div.remove();\n",
              "    }\n",
              "  "
            ]
          },
          "metadata": {}
        },
        {
          "output_type": "display_data",
          "data": {
            "text/plain": [
              "<IPython.core.display.Javascript object>"
            ],
            "application/javascript": [
              "download(\"download_c44081fe-1800-4ab8-b164-27f5f1e63c44\", \"median-wait-per-station.pdf\", 14055)"
            ]
          },
          "metadata": {}
        },
        {
          "output_type": "display_data",
          "data": {
            "text/plain": [
              "<Figure size 640x480 with 1 Axes>"
            ],
            "image/png": "[encoded data removed]"
          },
          "metadata": {}
        }
      ]
    },
    {
      "cell_type": "code",
      "source": [
        "\n",
        "stations = list(usage_times.keys())\n",
        "median_wait = {\n",
        "    'meal': [np.max(t) for t in waiting_times(resources, 'meal')],\n",
        "    'toilet': [np.max(t) for t in waiting_times(resources, 'toilet')],\n",
        "    'water': [np.max(t) for t in waiting_times(resources, 'water')],\n",
        "    'medical': [np.max(t) if len(t) > 0 else 0 for t in waiting_times(resources, 'medical')],\n",
        "}\n",
        "\n",
        "x = np.arange(len(median_wait['water']))  # the label locations\n",
        "width = 1.0/ (len(stations) + 1.0)  # the width of the bars\n",
        "multiplier = len(median_wait.keys())\n",
        "\n",
        "fig, ax = plt.subplots(layout='constrained')\n",
        "\n",
        "for attribute, measurement in median_wait.items():\n",
        "    offset = width * multiplier\n",
        "    rects = ax.bar(x  + offset, measurement, width, label=attribute)\n",
        "    ax.bar_label(rects, fmt=\"%i\", padding=3)\n",
        "    multiplier += 1\n",
        "\n",
        "# Add some text for labels, title and custom x-axis tick labels, etc.\n",
        "ax.set_ylabel('Maximum waiting time')\n",
        "ax.set_title('Maximum waiting time per station')\n",
        "ax.set_xticks(x + width, x)\n",
        "ax.legend(loc='upper left', ncols=4)\n",
        "ax.margins(0.05, 0.2)\n",
        "\n",
        "download_plot(\"maximum-waiting-times.pdf\")"
      ],
      "metadata": {
        "colab": {
          "base_uri": "https://localhost:8080/",
          "height": 508
        },
        "id": "uGImIe5xhtqp",
        "outputId": "cbe33dbb-77fa-45a9-da59-1118d72ff48b"
      },
      "execution_count": 40,
      "outputs": [
        {
          "output_type": "display_data",
          "data": {
            "text/plain": [
              "<IPython.core.display.Javascript object>"
            ],
            "application/javascript": [
              "\n",
              "    async function download(id, filename, size) {\n",
              "      if (!google.colab.kernel.accessAllowed) {\n",
              "        return;\n",
              "      }\n",
              "      const div = document.createElement('div');\n",
              "      const label = document.createElement('label');\n",
              "      label.textContent = `Downloading \"${filename}\": `;\n",
              "      div.appendChild(label);\n",
              "      const progress = document.createElement('progress');\n",
              "      progress.max = size;\n",
              "      div.appendChild(progress);\n",
              "      document.body.appendChild(div);\n",
              "\n",
              "      const buffers = [];\n",
              "      let downloaded = 0;\n",
              "\n",
              "      const channel = await google.colab.kernel.comms.open(id);\n",
              "      // Send a message to notify the kernel that we're ready.\n",
              "      channel.send({})\n",
              "\n",
              "      for await (const message of channel.messages) {\n",
              "        // Send a message to notify the kernel that we're ready.\n",
              "        channel.send({})\n",
              "        if (message.buffers) {\n",
              "          for (const buffer of message.buffers) {\n",
              "            buffers.push(buffer);\n",
              "            downloaded += buffer.byteLength;\n",
              "            progress.value = downloaded;\n",
              "          }\n",
              "        }\n",
              "      }\n",
              "      const blob = new Blob(buffers, {type: 'application/binary'});\n",
              "      const a = document.createElement('a');\n",
              "      a.href = window.URL.createObjectURL(blob);\n",
              "      a.download = filename;\n",
              "      div.appendChild(a);\n",
              "      a.click();\n",
              "      div.remove();\n",
              "    }\n",
              "  "
            ]
          },
          "metadata": {}
        },
        {
          "output_type": "display_data",
          "data": {
            "text/plain": [
              "<IPython.core.display.Javascript object>"
            ],
            "application/javascript": [
              "download(\"download_94b34982-4fd9-4e5c-9453-21ef30035bd5\", \"maximum-waiting-times.pdf\", 14752)"
            ]
          },
          "metadata": {}
        },
        {
          "output_type": "display_data",
          "data": {
            "text/plain": [
              "<Figure size 640x480 with 1 Axes>"
            ],
            "image/png": "[encoded data removed]"
          },
          "metadata": {}
        }
      ]
    },
    {
      "cell_type": "code",
      "source": [
        "median_wait"
      ],
      "metadata": {
        "colab": {
          "base_uri": "https://localhost:8080/"
        },
        "id": "7pIGZPDD9Di_",
        "outputId": "9922f184-0271-4608-d286-32af35b60bcf"
      },
      "execution_count": 41,
      "outputs": [
        {
          "output_type": "execute_result",
          "data": {
            "text/plain": [
              "{'meal': [0,\n",
              "  0,\n",
              "  612.4059220639319,\n",
              "  4.605198787689005,\n",
              "  0.5706547925510677,\n",
              "  0,\n",
              "  0.4393456095294823,\n",
              "  0,\n",
              "  0.0,\n",
              "  0.0,\n",
              "  0.0,\n",
              "  0],\n",
              " 'toilet': [274.7014080136362,\n",
              "  349.11314711058003,\n",
              "  0.8399519807717297,\n",
              "  0.0,\n",
              "  0.0,\n",
              "  0.0,\n",
              "  0.0,\n",
              "  0.0,\n",
              "  0.0,\n",
              "  0.0,\n",
              "  0.0,\n",
              "  0],\n",
              " 'water': [734.9855014164743,\n",
              "  1.0084508381814885,\n",
              "  0.43136074873018515,\n",
              "  0.0,\n",
              "  0.0,\n",
              "  0.0,\n",
              "  0.0,\n",
              "  0.0,\n",
              "  0.0,\n",
              "  0.0,\n",
              "  0.0,\n",
              "  0],\n",
              " 'medical': [0.0, 0.0, 0.0, 0.0, 0.0, 0, 0.0, 0, 0.0, 0, 68.37298700679821, 0]}"
            ]
          },
          "metadata": {},
          "execution_count": 41
        }
      ]
    },
    {
      "cell_type": "code",
      "source": [
        "plt.plot(runners[10].stop_times)"
      ],
      "metadata": {
        "id": "OKpUGFAA_B1T",
        "colab": {
          "base_uri": "https://localhost:8080/",
          "height": 448
        },
        "outputId": "4bfced07-6a76-4af2-ae01-f54f640e8582"
      },
      "execution_count": 42,
      "outputs": [
        {
          "output_type": "execute_result",
          "data": {
            "text/plain": [
              "[<matplotlib.lines.Line2D at 0x7eb2667cfb50>]"
            ]
          },
          "metadata": {},
          "execution_count": 42
        },
        {
          "output_type": "display_data",
          "data": {
            "text/plain": [
              "<Figure size 640x480 with 1 Axes>"
            ],
            "image/png": "[encoded data removed]"
          },
          "metadata": {}
        }
      ]
    },
    {
      "cell_type": "code",
      "source": [],
      "metadata": {
        "id": "zPHUJVlNEglZ"
      },
      "execution_count": 42,
      "outputs": []
    }
  ]
}